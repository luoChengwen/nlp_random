{
 "cells": [
  {
   "cell_type": "markdown",
   "metadata": {},
   "source": [
    "# Project: Part of Speech Tagging with Hidden Markov Models \n",
    "---\n",
    "### Introduction\n",
    "\n",
    "Part of speech tagging is the process of determining the syntactic category of a word from the words in its surrounding context. It is often used to help disambiguate natural language phrases because it can be done quickly with high accuracy. Tagging can be used for many NLP tasks like determining correct pronunciation during speech synthesis (for example, _dis_-count as a noun vs dis-_count_ as a verb), for information retrieval, and for word sense disambiguation.\n",
    "\n",
    "In this notebook, you'll use the [Pomegranate](http://pomegranate.readthedocs.io/) library to build a hidden Markov model for part of speech tagging using a \"universal\" tagset. Hidden Markov models have been able to achieve [>96% tag accuracy with larger tagsets on realistic text corpora](http://www.coli.uni-saarland.de/~thorsten/publications/Brants-ANLP00.pdf). Hidden Markov models have also been used for speech recognition and speech generation, machine translation, gene recognition for bioinformatics, and human gesture recognition for computer vision, and more. \n",
    "\n",
    "![](_post-hmm.png)\n",
    "\n",
    "The notebook already contains some code to get you started. You only need to add some new functionality in the areas indicated to complete the project; you will not need to modify the included code beyond what is requested. Sections that begin with **'IMPLEMENTATION'** in the header indicate that you must provide code in the block that follows. Instructions will be provided for each section, and the specifics of the implementation are marked in the code block with a 'TODO' statement. Please be sure to read the instructions carefully!"
   ]
  },
  {
   "cell_type": "markdown",
   "metadata": {},
   "source": [
    "<div class=\"alert alert-block alert-info\">\n",
    "**Note:** Once you have completed all of the code implementations, you need to finalize your work by exporting the iPython Notebook as an HTML document. Before exporting the notebook to html, all of the code cells need to have been run so that reviewers can see the final implementation and output. You must then **export the notebook** by running the last cell in the notebook, or by using the menu above and navigating to **File -> Download as -> HTML (.html)** Your submissions should include both the `html` and `ipynb` files.\n",
    "</div>"
   ]
  },
  {
   "cell_type": "markdown",
   "metadata": {},
   "source": [
    "<div class=\"alert alert-block alert-info\">\n",
    "**Note:** Code and Markdown cells can be executed using the `Shift + Enter` keyboard shortcut. Markdown cells can be edited by double-clicking the cell to enter edit mode.\n",
    "</div>"
   ]
  },
  {
   "cell_type": "markdown",
   "metadata": {},
   "source": [
    "### The Road Ahead\n",
    "You must complete Steps 1-3 below to pass the project. The section on Step 4 includes references & resources you can use to further explore HMM taggers.\n",
    "\n",
    "- [Step 1](#Step-1:-Read-and-preprocess-the-dataset): Review the provided interface to load and access the text corpus\n",
    "- [Step 2](#Step-2:-Build-a-Most-Frequent-Class-tagger): Build a Most Frequent Class tagger to use as a baseline\n",
    "- [Step 3](#Step-3:-Build-an-HMM-tagger): Build an HMM Part of Speech tagger and compare to the MFC baseline\n",
    "- [Step 4](#Step-4:-[Optional]-Improving-model-performance): (Optional) Improve the HMM tagger"
   ]
  },
  {
   "cell_type": "markdown",
   "metadata": {},
   "source": [
    "<div class=\"alert alert-block alert-warning\">\n",
    "**Note:** Make sure you have selected a **Python 3** kernel in Workspaces or the hmm-tagger conda environment if you are running the Jupyter server on your own machine.\n",
    "</div>"
   ]
  },
  {
   "cell_type": "code",
   "execution_count": 1,
   "metadata": {},
   "outputs": [],
   "source": [
    "# Jupyter \"magic methods\" -- only need to be run once per kernel restart\n",
    "%load_ext autoreload\n",
    "%aimport helpers, tests\n",
    "%autoreload 1"
   ]
  },
  {
   "cell_type": "code",
   "execution_count": 2,
   "metadata": {},
   "outputs": [],
   "source": [
    "# import python modules -- this cell needs to be run again if you make changes to any of the files\n",
    "import matplotlib.pyplot as plt\n",
    "import numpy as np\n",
    "\n",
    "from IPython.core.display import HTML\n",
    "from itertools import chain\n",
    "from collections import Counter, defaultdict\n",
    "from helpers import show_model, Dataset\n",
    "from pomegranate import State, HiddenMarkovModel, DiscreteDistribution"
   ]
  },
  {
   "cell_type": "markdown",
   "metadata": {},
   "source": [
    "## Step 1: Read and preprocess the dataset\n",
    "---\n",
    "We'll start by reading in a text corpus and splitting it into a training and testing dataset. The data set is a copy of the [Brown corpus](https://en.wikipedia.org/wiki/Brown_Corpus) (originally from the [NLTK](https://www.nltk.org/) library) that has already been pre-processed to only include the [universal tagset](https://arxiv.org/pdf/1104.2086.pdf). You should expect to get slightly higher accuracy using this simplified tagset than the same model would achieve on a larger tagset like the full [Penn treebank tagset](https://www.ling.upenn.edu/courses/Fall_2003/ling001/penn_treebank_pos.html), but the process you'll follow would be the same.\n",
    "\n",
    "The `Dataset` class provided in helpers.py will read and parse the corpus. You can generate your own datasets compatible with the reader by writing them to the following format. The dataset is stored in plaintext as a collection of words and corresponding tags. Each sentence starts with a unique identifier on the first line, followed by one tab-separated word/tag pair on each following line. Sentences are separated by a single blank line.\n",
    "\n",
    "Example from the Brown corpus. \n",
    "```\n",
    "b100-38532\n",
    "Perhaps\tADV\n",
    "it\tPRON\n",
    "was\tVERB\n",
    "right\tADJ\n",
    ";\t.\n",
    ";\t.\n",
    "\n",
    "b100-35577\n",
    "...\n",
    "```"
   ]
  },
  {
   "cell_type": "code",
   "execution_count": 3,
   "metadata": {},
   "outputs": [
    {
     "name": "stdout",
     "output_type": "stream",
     "text": [
      "There are 57340 sentences in the corpus.\n",
      "There are 45872 sentences in the training set.\n",
      "There are 11468 sentences in the testing set.\n"
     ]
    }
   ],
   "source": [
    "data = Dataset(\"tags-universal.txt\", \"brown-universal.txt\", train_test_split=0.8)\n",
    "\n",
    "print(\"There are {} sentences in the corpus.\".format(len(data)))\n",
    "print(\"There are {} sentences in the training set.\".format(len(data.training_set)))\n",
    "print(\"There are {} sentences in the testing set.\".format(len(data.testing_set)))\n",
    "\n",
    "assert len(data) == len(data.training_set) + len(data.testing_set), \\\n",
    "       \"The number of sentences in the training set + testing set should sum to the number of sentences in the corpus\""
   ]
  },
  {
   "cell_type": "markdown",
   "metadata": {},
   "source": [
    "### The Dataset Interface\n",
    "\n",
    "You can access (mostly) immutable references to the dataset through a simple interface provided through the `Dataset` class, which represents an iterable collection of sentences along with easy access to partitions of the data for training & testing. Review the reference below, then run and review the next few cells to make sure you understand the interface before moving on to the next step.\n",
    "\n",
    "```\n",
    "Dataset-only Attributes:\n",
    "    training_set - reference to a Subset object containing the samples for training\n",
    "    testing_set - reference to a Subset object containing the samples for testing\n",
    "\n",
    "Dataset & Subset Attributes:\n",
    "    sentences - a dictionary with an entry {sentence_key: Sentence()} for each sentence in the corpus\n",
    "    keys - an immutable ordered (not sorted) collection of the sentence_keys for the corpus\n",
    "    vocab - an immutable collection of the unique words in the corpus\n",
    "    tagset - an immutable collection of the unique tags in the corpus\n",
    "    X - returns an array of words grouped by sentences ((w11, w12, w13, ...), (w21, w22, w23, ...), ...)\n",
    "    Y - returns an array of tags grouped by sentences ((t11, t12, t13, ...), (t21, t22, t23, ...), ...)\n",
    "    N - returns the number of distinct samples (individual words or tags) in the dataset\n",
    "\n",
    "Methods:\n",
    "    stream() - returns an flat iterable over all (word, tag) pairs across all sentences in the corpus\n",
    "    __iter__() - returns an iterable over the data as (sentence_key, Sentence()) pairs\n",
    "    __len__() - returns the nubmer of sentences in the dataset\n",
    "```\n",
    "\n",
    "For example, consider a Subset, `subset`, of the sentences `{\"s0\": Sentence((\"See\", \"Spot\", \"run\"), (\"VERB\", \"NOUN\", \"VERB\")), \"s1\": Sentence((\"Spot\", \"ran\"), (\"NOUN\", \"VERB\"))}`. The subset will have these attributes:\n",
    "\n",
    "```\n",
    "subset.keys == {\"s1\", \"s0\"}  # unordered\n",
    "subset.vocab == {\"See\", \"run\", \"ran\", \"Spot\"}  # unordered\n",
    "subset.tagset == {\"VERB\", \"NOUN\"}  # unordered\n",
    "subset.X == ((\"Spot\", \"ran\"), (\"See\", \"Spot\", \"run\"))  # order matches .keys\n",
    "subset.Y == ((\"NOUN\", \"VERB\"), (\"VERB\", \"NOUN\", \"VERB\"))  # order matches .keys\n",
    "subset.N == 7  # there are a total of seven observations over all sentences\n",
    "len(subset) == 2  # because there are two sentences\n",
    "```\n",
    "\n",
    "<div class=\"alert alert-block alert-info\">\n",
    "**Note:** The `Dataset` class is _convenient_, but it is **not** efficient. It is not suitable for huge datasets because it stores multiple redundant copies of the same data.\n",
    "</div>"
   ]
  },
  {
   "cell_type": "markdown",
   "metadata": {},
   "source": [
    "#### Sentences\n",
    "\n",
    "`Dataset.sentences` is a dictionary of all sentences in the training corpus, each keyed to a unique sentence identifier. Each `Sentence` is itself an object with two attributes: a tuple of the words in the sentence named `words` and a tuple of the tag corresponding to each word named `tags`."
   ]
  },
  {
   "cell_type": "code",
   "execution_count": 4,
   "metadata": {},
   "outputs": [
    {
     "name": "stdout",
     "output_type": "stream",
     "text": [
      "Sentence: b100-38532\n",
      "words:\n",
      "\t('Perhaps', 'it', 'was', 'right', ';', ';')\n",
      "tags:\n",
      "\t('ADV', 'PRON', 'VERB', 'ADJ', '.', '.')\n"
     ]
    }
   ],
   "source": [
    "key = 'b100-38532'\n",
    "print(\"Sentence: {}\".format(key))\n",
    "print(\"words:\\n\\t{!s}\".format(data.sentences[key].words))\n",
    "print(\"tags:\\n\\t{!s}\".format(data.sentences[key].tags))"
   ]
  },
  {
   "cell_type": "markdown",
   "metadata": {},
   "source": [
    "<div class=\"alert alert-block alert-info\">\n",
    "**Note:** The underlying iterable sequence is **unordered** over the sentences in the corpus; it is not guaranteed to return the sentences in a consistent order between calls. Use `Dataset.stream()`, `Dataset.keys`, `Dataset.X`, or `Dataset.Y` attributes if you need ordered access to the data.\n",
    "</div>\n",
    "\n",
    "#### Counting Unique Elements\n",
    "\n",
    "You can access the list of unique words (the dataset vocabulary) via `Dataset.vocab` and the unique list of tags via `Dataset.tagset`."
   ]
  },
  {
   "cell_type": "code",
   "execution_count": 5,
   "metadata": {},
   "outputs": [
    {
     "name": "stdout",
     "output_type": "stream",
     "text": [
      "There are a total of 1161192 samples of 56057 unique words in the corpus.\n",
      "There are 928458 samples of 50536 unique words in the training set.\n",
      "There are 232734 samples of 25112 unique words in the testing set.\n",
      "There are 5521 words in the test set that are missing in the training set.\n"
     ]
    }
   ],
   "source": [
    "print(\"There are a total of {} samples of {} unique words in the corpus.\"\n",
    "      .format(data.N, len(data.vocab)))\n",
    "print(\"There are {} samples of {} unique words in the training set.\"\n",
    "      .format(data.training_set.N, len(data.training_set.vocab)))\n",
    "print(\"There are {} samples of {} unique words in the testing set.\"\n",
    "      .format(data.testing_set.N, len(data.testing_set.vocab)))\n",
    "print(\"There are {} words in the test set that are missing in the training set.\"\n",
    "      .format(len(data.testing_set.vocab - data.training_set.vocab)))\n",
    "\n",
    "assert data.N == data.training_set.N + data.testing_set.N, \\\n",
    "       \"The number of training + test samples should sum to the total number of samples\""
   ]
  },
  {
   "cell_type": "markdown",
   "metadata": {},
   "source": [
    "#### Accessing word and tag Sequences\n",
    "The `Dataset.X` and `Dataset.Y` attributes provide access to ordered collections of matching word and tag sequences for each sentence in the dataset."
   ]
  },
  {
   "cell_type": "code",
   "execution_count": 6,
   "metadata": {},
   "outputs": [
    {
     "name": "stdout",
     "output_type": "stream",
     "text": [
      "Sentence 1: ('Mr.', 'Podger', 'had', 'thanked', 'him', 'gravely', ',', 'and', 'now', 'he', 'made', 'use', 'of', 'the', 'advice', '.')\n",
      "\n",
      "Labels 1: ('NOUN', 'NOUN', 'VERB', 'VERB', 'PRON', 'ADV', '.', 'CONJ', 'ADV', 'PRON', 'VERB', 'NOUN', 'ADP', 'DET', 'NOUN', '.')\n",
      "\n",
      "Sentence 2: ('But', 'there', 'seemed', 'to', 'be', 'some', 'difference', 'of', 'opinion', 'as', 'to', 'how', 'far', 'the', 'board', 'should', 'go', ',', 'and', 'whose', 'advice', 'it', 'should', 'follow', '.')\n",
      "\n",
      "Labels 2: ('CONJ', 'PRT', 'VERB', 'PRT', 'VERB', 'DET', 'NOUN', 'ADP', 'NOUN', 'ADP', 'ADP', 'ADV', 'ADV', 'DET', 'NOUN', 'VERB', 'VERB', '.', 'CONJ', 'DET', 'NOUN', 'PRON', 'VERB', 'VERB', '.')\n",
      "\n"
     ]
    }
   ],
   "source": [
    "# accessing words with Dataset.X and tags with Dataset.Y \n",
    "for i in range(2):    \n",
    "    print(\"Sentence {}:\".format(i + 1), data.X[i])\n",
    "    print()\n",
    "    print(\"Labels {}:\".format(i + 1), data.Y[i])\n",
    "    print()"
   ]
  },
  {
   "cell_type": "markdown",
   "metadata": {},
   "source": [
    "#### Accessing (word, tag) Samples\n",
    "The `Dataset.stream()` method returns an iterator that chains together every pair of (word, tag) entries across all sentences in the entire corpus."
   ]
  },
  {
   "cell_type": "code",
   "execution_count": 7,
   "metadata": {},
   "outputs": [
    {
     "name": "stdout",
     "output_type": "stream",
     "text": [
      "\n",
      "Stream (word, tag) pairs:\n",
      "\n",
      "\t ('Mr.', 'NOUN')\n",
      "\t ('Podger', 'NOUN')\n",
      "\t ('had', 'VERB')\n",
      "\t ('thanked', 'VERB')\n",
      "\t ('him', 'PRON')\n",
      "\t ('gravely', 'ADV')\n",
      "\t (',', '.')\n"
     ]
    }
   ],
   "source": [
    "# use Dataset.stream() (word, tag) samples for the entire corpus\n",
    "print(\"\\nStream (word, tag) pairs:\\n\")\n",
    "for i, pair in enumerate(data.stream()):\n",
    "    print(\"\\t\", pair)\n",
    "    if i > 5: break"
   ]
  },
  {
   "cell_type": "code",
   "execution_count": 8,
   "metadata": {},
   "outputs": [
    {
     "data": {
      "text/plain": [
       "helpers.Dataset"
      ]
     },
     "execution_count": 8,
     "metadata": {},
     "output_type": "execute_result"
    }
   ],
   "source": [
    "type(data)"
   ]
  },
  {
   "cell_type": "code",
   "execution_count": 9,
   "metadata": {},
   "outputs": [
    {
     "data": {
      "text/plain": [
       "dict"
      ]
     },
     "execution_count": 9,
     "metadata": {},
     "output_type": "execute_result"
    }
   ],
   "source": [
    "type(data[0])"
   ]
  },
  {
   "cell_type": "code",
   "execution_count": 10,
   "metadata": {},
   "outputs": [
    {
     "data": {
      "text/plain": [
       "57340"
      ]
     },
     "execution_count": 10,
     "metadata": {},
     "output_type": "execute_result"
    }
   ],
   "source": [
    "len(data.Y)"
   ]
  },
  {
   "cell_type": "markdown",
   "metadata": {},
   "source": [
    "\n",
    "For both our baseline tagger and the HMM model we'll build, we need to estimate the frequency of tags & words from the frequency counts of observations in the training corpus. In the next several cells you will complete functions to compute the counts of several sets of counts. "
   ]
  },
  {
   "cell_type": "markdown",
   "metadata": {},
   "source": [
    "## Step 2: Build a Most Frequent Class tagger\n",
    "---\n",
    "\n",
    "Perhaps the simplest tagger (and a good baseline for tagger performance) is to simply choose the tag most frequently assigned to each word. This \"most frequent class\" tagger inspects each observed word in the sequence and assigns it the label that was most often assigned to that word in the corpus."
   ]
  },
  {
   "cell_type": "markdown",
   "metadata": {},
   "source": [
    "### IMPLEMENTATION: Pair Counts\n",
    "\n",
    "Complete the function below that computes the joint frequency counts for two input sequences."
   ]
  },
  {
   "cell_type": "code",
   "execution_count": 11,
   "metadata": {},
   "outputs": [
    {
     "data": {
      "text/html": [
       "<div class=\"alert alert-block alert-success\">Your emission counts look good!</div>"
      ],
      "text/plain": [
       "<IPython.core.display.HTML object>"
      ]
     },
     "execution_count": 11,
     "metadata": {},
     "output_type": "execute_result"
    }
   ],
   "source": [
    "def pair_counts(sequences_A, sequences_B):\n",
    "    \"\"\"Return a dictionary keyed to each unique value in the first sequence list\n",
    "    that counts the number of occurrences of the corresponding value from the\n",
    "    second sequences list.\n",
    "    \n",
    "    For example, if sequences_A is tags and sequences_B is the corresponding\n",
    "    words, then if 1244 sequences contain the word \"time\" tagged as a NOUN, then\n",
    "    you should return a dictionary such that pair_counts[NOUN][time] == 1244\n",
    "    \"\"\"\n",
    "    # TODO: Finish this function!\n",
    "    output = defaultdict(lambda: defaultdict(int))\n",
    "    \n",
    "    for i in range(len(sequences_A)):\n",
    "    \n",
    "        for j in range(len(sequences_A[i])):\n",
    "            output[sequences_B[i][j]][sequences_A[i][j]] +=1\n",
    "#     raise NotImplementedError\n",
    "    return output\n",
    "\n",
    "\n",
    "\n",
    "\n",
    "\n",
    "# Calculate C(t_i, w_i)\n",
    "emission_counts = pair_counts(data.X, data.Y) # TODO: YOUR CODE HERE)\n",
    "\n",
    "assert len(emission_counts) == 12, \\\n",
    "       \"Uh oh. There should be 12 tags in your dictionary.\"\n",
    "assert max(emission_counts[\"NOUN\"], key=emission_counts[\"NOUN\"].get) == 'time', \\\n",
    "       \"Hmmm...'time' is expected to be the most common NOUN.\"\n",
    "HTML('<div class=\"alert alert-block alert-success\">Your emission counts look good!</div>')"
   ]
  },
  {
   "cell_type": "code",
   "execution_count": 12,
   "metadata": {},
   "outputs": [
    {
     "data": {
      "text/plain": [
       "dict_keys(['NOUN', 'VERB', 'PRON', 'ADV', '.', 'CONJ', 'ADP', 'DET', 'PRT', 'ADJ', 'X', 'NUM'])"
      ]
     },
     "execution_count": 12,
     "metadata": {},
     "output_type": "execute_result"
    }
   ],
   "source": [
    "emission_counts.keys()"
   ]
  },
  {
   "cell_type": "code",
   "execution_count": 13,
   "metadata": {},
   "outputs": [
    {
     "data": {
      "text/plain": [
       "defaultdict(int,\n",
       "            {'Mr.': 844,\n",
       "             'Podger': 21,\n",
       "             'use': 352,\n",
       "             'advice': 50,\n",
       "             'difference': 148,\n",
       "             'opinion': 94,\n",
       "             'board': 165,\n",
       "             'instrument': 44,\n",
       "             'elasticity': 5,\n",
       "             'pastes': 1,\n",
       "             'inks': 1,\n",
       "             'paints': 6,\n",
       "             'adhesives': 2,\n",
       "             'plastics': 28,\n",
       "             'bread': 41,\n",
       "             'dough': 13,\n",
       "             'properties': 61,\n",
       "             'length': 115,\n",
       "             'shortness': 1,\n",
       "             'spinnability': 1,\n",
       "             'methods': 138,\n",
       "             'present': 44,\n",
       "             'plans': 96,\n",
       "             'language': 106,\n",
       "             'teacher': 78,\n",
       "             'east': 41,\n",
       "             'mile': 42,\n",
       "             'road': 178,\n",
       "             'effort': 145,\n",
       "             'sweat': 19,\n",
       "             'television': 49,\n",
       "             'Line': 15,\n",
       "             'tour': 39,\n",
       "             'Beach': 28,\n",
       "             'night': 398,\n",
       "             'opportunity': 120,\n",
       "             'measure': 60,\n",
       "             'adversary': 5,\n",
       "             'war': 304,\n",
       "             \"Khrushchev's\": 14,\n",
       "             'intentions': 22,\n",
       "             'views': 49,\n",
       "             'direction': 132,\n",
       "             'place': 475,\n",
       "             'philosopher': 16,\n",
       "             'Samuel': 34,\n",
       "             \"Alexander's\": 3,\n",
       "             'debt': 13,\n",
       "             'Wordsworth': 2,\n",
       "             'Meredith': 18,\n",
       "             'example': 287,\n",
       "             'A.': 110,\n",
       "             'N.': 26,\n",
       "             \"Whitehead's\": 2,\n",
       "             'understanding': 82,\n",
       "             'romantics': 5,\n",
       "             'Shelley': 12,\n",
       "             'network': 30,\n",
       "             'entities': 11,\n",
       "             'manner': 124,\n",
       "             'regard': 53,\n",
       "             'needs': 93,\n",
       "             'society': 192,\n",
       "             'regime': 23,\n",
       "             \"corporation's\": 5,\n",
       "             'survival': 30,\n",
       "             'responsibility': 116,\n",
       "             'conditions': 179,\n",
       "             'assistance': 85,\n",
       "             'scale': 53,\n",
       "             'definition': 34,\n",
       "             'objectives': 39,\n",
       "             'assessment': 22,\n",
       "             'costs': 160,\n",
       "             'Theresa': 24,\n",
       "             'Anne': 42,\n",
       "             'George': 129,\n",
       "             'degree': 125,\n",
       "             'Af': 994,\n",
       "             'P': 47,\n",
       "             'teen': 2,\n",
       "             'life': 676,\n",
       "             'non-college': 1,\n",
       "             'group': 377,\n",
       "             'sense': 301,\n",
       "             'marginality': 2,\n",
       "             'tempest': 1,\n",
       "             'March': 97,\n",
       "             'Udall': 6,\n",
       "             'bronze': 8,\n",
       "             'statue': 16,\n",
       "             'William': 147,\n",
       "             'Jennings': 3,\n",
       "             'Bryan': 12,\n",
       "             'Gutzon': 1,\n",
       "             'Borglum': 2,\n",
       "             'loan': 41,\n",
       "             'Salem': 19,\n",
       "             'Illinois': 40,\n",
       "             \"Bryan's\": 2,\n",
       "             'birthplace': 6,\n",
       "             'case': 353,\n",
       "             'elements': 103,\n",
       "             'pencil': 34,\n",
       "             'secant': 12,\n",
       "             'line': 279,\n",
       "             'vertex': 19,\n",
       "             'intersection': 17,\n",
       "             '**zg': 32,\n",
       "             'plane': 111,\n",
       "             'howl': 3,\n",
       "             'coming': 12,\n",
       "             'times': 260,\n",
       "             'veterinarian': 2,\n",
       "             'Kennan': 7,\n",
       "             'account': 90,\n",
       "             'circumstance': 12,\n",
       "             'atmosphere': 79,\n",
       "             'decisions': 52,\n",
       "             'approach': 107,\n",
       "             'integration': 47,\n",
       "             'formation': 37,\n",
       "             'Market': 12,\n",
       "             'Euratom': 1,\n",
       "             'cooperation': 36,\n",
       "             'development': 309,\n",
       "             'energy': 96,\n",
       "             'one': 482,\n",
       "             'prestige': 27,\n",
       "             'management': 88,\n",
       "             'position': 235,\n",
       "             'minds': 56,\n",
       "             'people': 809,\n",
       "             'things': 361,\n",
       "             'holes': 38,\n",
       "             'art': 178,\n",
       "             'movies': 30,\n",
       "             'girl': 211,\n",
       "             'dreams': 24,\n",
       "             'flower': 17,\n",
       "             'elbows': 7,\n",
       "             'body': 269,\n",
       "             'potato': 15,\n",
       "             'tune-belly': 1,\n",
       "             'jury': 63,\n",
       "             'Fulton': 17,\n",
       "             \"ordinary's\": 1,\n",
       "             'court': 118,\n",
       "             'fire': 160,\n",
       "             'practices': 49,\n",
       "             'appointment': 26,\n",
       "             'appraisers': 1,\n",
       "             'guardians': 4,\n",
       "             'administrators': 5,\n",
       "             'awarding': 1,\n",
       "             'fees': 27,\n",
       "             'compensation': 17,\n",
       "             'precedent': 9,\n",
       "             'time': 1555,\n",
       "             'capture': 4,\n",
       "             'Helion': 18,\n",
       "             'person': 170,\n",
       "             'sketchbook': 2,\n",
       "             \"Woolworth's\": 1,\n",
       "             'York': 302,\n",
       "             'boat': 69,\n",
       "             'frames': 26,\n",
       "             'contact': 53,\n",
       "             'plywood': 9,\n",
       "             'planking': 8,\n",
       "             'significance': 66,\n",
       "             'volume': 115,\n",
       "             'paragraphs': 14,\n",
       "             'Laguerre': 3,\n",
       "             'Hanover': 66,\n",
       "             'Tar': 10,\n",
       "             'Heel-Lotus': 2,\n",
       "             'radioactivity': 3,\n",
       "             'fallout': 31,\n",
       "             'Cavalry': 10,\n",
       "             'troopers': 5,\n",
       "             'Palace': 23,\n",
       "             'Emperor': 12,\n",
       "             'tonight': 34,\n",
       "             'Earl': 11,\n",
       "             'examples': 47,\n",
       "             'abuse': 13,\n",
       "             'passages': 20,\n",
       "             'Examiner': 8,\n",
       "             'Destroyer': 1,\n",
       "             'Character': 1,\n",
       "             'Richard': 71,\n",
       "             'Steele': 21,\n",
       "             'Swift': 20,\n",
       "             'truth': 124,\n",
       "             'men': 736,\n",
       "             'treatment': 122,\n",
       "             'Robert': 83,\n",
       "             'E.': 85,\n",
       "             'Lee': 34,\n",
       "             'dignity': 34,\n",
       "             'confederacy': 3,\n",
       "             'Heat': 6,\n",
       "             'transfer': 32,\n",
       "             'conduction': 2,\n",
       "             'radiation': 91,\n",
       "             'arc': 40,\n",
       "             'column': 60,\n",
       "             'maps': 13,\n",
       "             'program': 367,\n",
       "             'step': 110,\n",
       "             'division': 66,\n",
       "             'long-range': 40,\n",
       "             'state': 524,\n",
       "             'plan': 166,\n",
       "             'series': 122,\n",
       "             'inch': 39,\n",
       "             'sheets': 26,\n",
       "             'feet': 283,\n",
       "             'Hong': 11,\n",
       "             'Kong': 11,\n",
       "             'India': 58,\n",
       "             'Pakistan': 7,\n",
       "             'exports': 10,\n",
       "             'types': 114,\n",
       "             'textiles': 15,\n",
       "             'Britain': 55,\n",
       "             'years': 942,\n",
       "             'Lancashire': 1,\n",
       "             'Pact': 3,\n",
       "             'day': 623,\n",
       "             'dogs': 66,\n",
       "             'Ireland': 13,\n",
       "             'pigs': 6,\n",
       "             'fans': 19,\n",
       "             'room': 365,\n",
       "             'remnants': 2,\n",
       "             'smoke': 32,\n",
       "             'strata': 2,\n",
       "             'ceiling': 31,\n",
       "             'ship': 76,\n",
       "             'Discovery': 12,\n",
       "             'crew': 36,\n",
       "             'nuclei': 13,\n",
       "             'fibers': 23,\n",
       "             'Figures': 13,\n",
       "             'proliferation': 5,\n",
       "             'structure': 90,\n",
       "             'center': 175,\n",
       "             'periphery': 5,\n",
       "             'fiber': 27,\n",
       "             'presence': 75,\n",
       "             'artery': 46,\n",
       "             'anastomoses': 6,\n",
       "             'Ruysch': 1,\n",
       "             'others': 294,\n",
       "             'information': 258,\n",
       "             'sampling': 10,\n",
       "             'assesment': 1,\n",
       "             'techniques': 98,\n",
       "             'advisers': 12,\n",
       "             'attention': 177,\n",
       "             'uninitiate': 1,\n",
       "             'confusion': 43,\n",
       "             'operator': 49,\n",
       "             'anybody': 39,\n",
       "             'campaign': 75,\n",
       "             'Mitchell': 26,\n",
       "             'image': 117,\n",
       "             'unity': 66,\n",
       "             'candidate': 34,\n",
       "             'Washington': 206,\n",
       "             'kind': 295,\n",
       "             'materialism': 6,\n",
       "             'Artists': 12,\n",
       "             'truck': 54,\n",
       "             'transportation': 39,\n",
       "             'dollars': 97,\n",
       "             'luxuries': 3,\n",
       "             'agency': 48,\n",
       "             'Fiat': 9,\n",
       "             '$1.26': 1,\n",
       "             '$.03': 4,\n",
       "             'kilometer': 8,\n",
       "             'Station': 12,\n",
       "             'Wagon': 3,\n",
       "             '$1.10': 1,\n",
       "             '$.105': 1,\n",
       "             'Premier': 24,\n",
       "             'Khrushchev': 68,\n",
       "             'inauguration': 3,\n",
       "             'meeting': 122,\n",
       "             'President': 257,\n",
       "             'Kennedy': 140,\n",
       "             'problem': 312,\n",
       "             'field': 241,\n",
       "             'work': 576,\n",
       "             'procedures': 61,\n",
       "             'Felix': 30,\n",
       "             'Kopstein': 1,\n",
       "             'snake': 42,\n",
       "             'maturity': 36,\n",
       "             'python': 14,\n",
       "             'exception': 40,\n",
       "             'corner': 113,\n",
       "             'lights': 45,\n",
       "             'motor': 52,\n",
       "             'children': 342,\n",
       "             'section': 132,\n",
       "             'countries': 148,\n",
       "             'farms': 16,\n",
       "             'Du': 59,\n",
       "             'Pont': 35,\n",
       "             'General': 103,\n",
       "             'Motors': 43,\n",
       "             'shares': 41,\n",
       "             'stockholders': 26,\n",
       "             'right': 179,\n",
       "             'eyes': 391,\n",
       "             'bridge': 79,\n",
       "             'type': 195,\n",
       "             'U.S.': 161,\n",
       "             'highway': 32,\n",
       "             'system': 393,\n",
       "             'relic': 6,\n",
       "             'horse': 110,\n",
       "             'buggy': 6,\n",
       "             'days': 377,\n",
       "             'promise': 36,\n",
       "             'lion': 14,\n",
       "             'lamb': 6,\n",
       "             'tense': 5,\n",
       "             'spices': 3,\n",
       "             'flavorings': 1,\n",
       "             'condiments': 2,\n",
       "             'values': 182,\n",
       "             'talents': 28,\n",
       "             'tile': 16,\n",
       "             'dome': 17,\n",
       "             'rug': 13,\n",
       "             'poem': 48,\n",
       "             'miniature': 5,\n",
       "             'institutions': 96,\n",
       "             'city': 259,\n",
       "             'buildings': 76,\n",
       "             'walls': 69,\n",
       "             'lanes': 4,\n",
       "             'plays': 31,\n",
       "             'facets': 9,\n",
       "             'experience': 254,\n",
       "             'religion': 101,\n",
       "             'today': 246,\n",
       "             'tomorrow': 59,\n",
       "             'quality': 112,\n",
       "             'collection': 83,\n",
       "             'monotony': 7,\n",
       "             'pieces': 92,\n",
       "             \"gourmet's\": 1,\n",
       "             'kitchen': 90,\n",
       "             'breakfast': 51,\n",
       "             'luncheon': 23,\n",
       "             'party': 194,\n",
       "             'rooms': 54,\n",
       "             'everybody': 60,\n",
       "             'mud': 31,\n",
       "             'crank': 1,\n",
       "             'calls': 22,\n",
       "             'McFeeley': 12,\n",
       "             'chance': 127,\n",
       "             'transposition': 1,\n",
       "             'numbers': 120,\n",
       "             'thing': 331,\n",
       "             'mistake': 30,\n",
       "             'explosion': 15,\n",
       "             'island': 32,\n",
       "             'Krakatoa': 1,\n",
       "             'transfers': 10,\n",
       "             'angle': 50,\n",
       "             'Orioles': 11,\n",
       "             'improvement': 37,\n",
       "             'year': 647,\n",
       "             'influence': 113,\n",
       "             'marijuana': 10,\n",
       "             'beatnik': 7,\n",
       "             'self': 34,\n",
       "             'sesame': 4,\n",
       "             'universe': 63,\n",
       "             'book': 176,\n",
       "             'title': 52,\n",
       "             'moment': 246,\n",
       "             'Wheeler': 4,\n",
       "             'Fiske': 5,\n",
       "             'rifle': 59,\n",
       "             'Mike': 91,\n",
       "             'guerrilla': 12,\n",
       "             'boy': 234,\n",
       "             'sir': 33,\n",
       "             'enjoyment': 21,\n",
       "             'liquor': 42,\n",
       "             'ladies': 27,\n",
       "             'Cheyenne': 2,\n",
       "             'claim': 69,\n",
       "             'killing': 12,\n",
       "             'insinuations': 2,\n",
       "             'Hetman': 12,\n",
       "             'Hearst': 48,\n",
       "             'newspaper': 62,\n",
       "             'empire': 9,\n",
       "             'means': 188,\n",
       "             'coups': 2,\n",
       "             'destruction': 37,\n",
       "             'editors': 17,\n",
       "             'course': 464,\n",
       "             'unfrocking': 1,\n",
       "             'publishers': 9,\n",
       "             'mistakes': 15,\n",
       "             'judgment': 58,\n",
       "             'reports': 65,\n",
       "             'Mama': 43,\n",
       "             'Mrs.': 534,\n",
       "             \"Coolidge's\": 2,\n",
       "             'wish': 23,\n",
       "             'rest': 136,\n",
       "             'orchestra': 40,\n",
       "             'spots': 31,\n",
       "             'recording': 14,\n",
       "             'performance': 122,\n",
       "             'popularity': 17,\n",
       "             'result': 196,\n",
       "             'closing': 5,\n",
       "             'Street': 98,\n",
       "             'burlesque': 1,\n",
       "             'joints': 12,\n",
       "             'neighborhood': 57,\n",
       "             'saloons': 8,\n",
       "             'bit': 93,\n",
       "             'epidermis': 2,\n",
       "             'bedroom': 52,\n",
       "             'forms': 122,\n",
       "             'antibiotic': 1,\n",
       "             'strains': 8,\n",
       "             'examination': 27,\n",
       "             'catalogs': 2,\n",
       "             'schools': 190,\n",
       "             'courses': 58,\n",
       "             'design': 105,\n",
       "             'part': 461,\n",
       "             'membership': 66,\n",
       "             'Association': 86,\n",
       "             'Schools': 5,\n",
       "             'Art': 24,\n",
       "             'spot': 52,\n",
       "             'inspection': 20,\n",
       "             'number': 466,\n",
       "             'recommendations': 21,\n",
       "             'answers': 36,\n",
       "             'clay': 84,\n",
       "             'flesh': 52,\n",
       "             'abdomen': 6,\n",
       "             'torso': 7,\n",
       "             'tablet': 3,\n",
       "             'water': 430,\n",
       "             'jungle': 18,\n",
       "             'pool': 106,\n",
       "             'nose': 59,\n",
       "             'glasses': 29,\n",
       "             'ribbon': 12,\n",
       "             'jockey': 3,\n",
       "             'adult': 23,\n",
       "             'world': 684,\n",
       "             'sources': 82,\n",
       "             'diffusion': 24,\n",
       "             \"adolescent's\": 3,\n",
       "             'search': 58,\n",
       "             'meaning': 113,\n",
       "             'particular': 5,\n",
       "             'identity': 55,\n",
       "             'crisis': 77,\n",
       "             'carborundum': 1,\n",
       "             'disk': 25,\n",
       "             'atom': 37,\n",
       "             'physics': 19,\n",
       "             'head': 404,\n",
       "             'sides': 99,\n",
       "             'balls': 17,\n",
       "             'size': 136,\n",
       "             'footballs': 1,\n",
       "             'Eden': 9,\n",
       "             'West': 94,\n",
       "             'negotiation': 6,\n",
       "             'East': 44,\n",
       "             'parents': 81,\n",
       "             'police': 134,\n",
       "             'headquarters': 56,\n",
       "             'hour': 145,\n",
       "             'choice': 105,\n",
       "             'fact': 447,\n",
       "             'signs': 64,\n",
       "             'frenzy': 6,\n",
       "             'hunger': 17,\n",
       "             'pain': 87,\n",
       "             'fear': 93,\n",
       "             'leg': 53,\n",
       "             'importance': 108,\n",
       "             'knife': 73,\n",
       "             'material': 170,\n",
       "             'Carboloy': 2,\n",
       "             'Hesiometer': 6,\n",
       "             'support': 123,\n",
       "             'President-elect': 5,\n",
       "             'Rules': 9,\n",
       "             'Committee': 88,\n",
       "             'bottleneck': 2,\n",
       "             'touch': 54,\n",
       "             'Crombie': 11,\n",
       "             'Product': 4,\n",
       "             'research': 133,\n",
       "             'hours': 173,\n",
       "             'independence': 46,\n",
       "             'tribesmen': 2,\n",
       "             \"congressman's\": 1,\n",
       "             'patriotism': 6,\n",
       "             'Defense': 41,\n",
       "             'Department': 164,\n",
       "             \"Ortega's\": 1,\n",
       "             'hope': 98,\n",
       "             'psychology': 13,\n",
       "             'flowering': 4,\n",
       "             'novel': 48,\n",
       "             'something': 420,\n",
       "             'home': 525,\n",
       "             '49%': 1,\n",
       "             'subjects': 79,\n",
       "             'reaction': 121,\n",
       "             'normalcy': 4,\n",
       "             'demonstration': 25,\n",
       "             'warmth': 28,\n",
       "             'area': 319,\n",
       "             'tones': 15,\n",
       "             'fabrics': 28,\n",
       "             'Romaniuk': 1,\n",
       "             'Director': 25,\n",
       "             'AIMO': 5,\n",
       "             'Congo': 57,\n",
       "             'rapport': 3,\n",
       "             'Secretariat': 5,\n",
       "             'points': 124,\n",
       "             'Berle': 4,\n",
       "             \"Means's\": 1,\n",
       "             'study': 200,\n",
       "             'Corporation': 20,\n",
       "             'Property': 3,\n",
       "             'panic': 20,\n",
       "             'Mis-ter': 2,\n",
       "             'McBride': 11,\n",
       "             'Lord': 86,\n",
       "             'hand': 411,\n",
       "             \"boss's\": 3,\n",
       "             'arm': 91,\n",
       "             'car': 270,\n",
       "             'Chapel': 11,\n",
       "             'services': 127,\n",
       "             'weekend': 27,\n",
       "             'retreat': 11,\n",
       "             'Cape': 17,\n",
       "             'roses': 7,\n",
       "             'door': 312,\n",
       "             'birth': 63,\n",
       "             'word': 261,\n",
       "             'God': 297,\n",
       "             'parts': 109,\n",
       "             'cells': 81,\n",
       "             'wavelengths': 6,\n",
       "             'portions': 11,\n",
       "             'color': 132,\n",
       "             'San': 70,\n",
       "             'Francisco': 41,\n",
       "             'firemen': 5,\n",
       "             'week': 257,\n",
       "             'task': 59,\n",
       "             'toys': 7,\n",
       "             'distribution': 83,\n",
       "             'Austin': 18,\n",
       "             'Gary': 5,\n",
       "             'Hammond': 2,\n",
       "             'Ronnie': 5,\n",
       "             'Davis': 27,\n",
       "             'Oak': 8,\n",
       "             'Cliff': 3,\n",
       "             'Airport': 8,\n",
       "             'Los': 51,\n",
       "             'Angeles': 47,\n",
       "             'Houston': 25,\n",
       "             'Boeing': 3,\n",
       "             'minutes': 193,\n",
       "             'stopovers': 1,\n",
       "             'Phoenix': 9,\n",
       "             'El': 18,\n",
       "             'Paso': 10,\n",
       "             'Antonio': 6,\n",
       "             'friction': 17,\n",
       "             'force': 175,\n",
       "             'chip': 17,\n",
       "             'surfaces': 28,\n",
       "             'face': 319,\n",
       "             'Shayne': 27,\n",
       "             'left-hand': 5,\n",
       "             'lane': 11,\n",
       "             'Boulevard': 9,\n",
       "             'divider': 1,\n",
       "             'shore': 40,\n",
       "             'masts': 2,\n",
       "             'Boys': 11,\n",
       "             'boys': 132,\n",
       "             'Texans': 9,\n",
       "             'controversies': 4,\n",
       "             'confusions': 4,\n",
       "             'mind': 287,\n",
       "             'usage': 14,\n",
       "             'Gentile': 9,\n",
       "             'Jew': 26,\n",
       "             'members': 312,\n",
       "             'bee': 10,\n",
       "             'family': 311,\n",
       "             'idlers': 1,\n",
       "             'parasites': 4,\n",
       "             'expense': 50,\n",
       "             'relatives': 21,\n",
       "             'Georgia': 46,\n",
       "             'State': 263,\n",
       "             'Chamber': 15,\n",
       "             'Commerce': 40,\n",
       "             'danger': 68,\n",
       "             'candidates': 38,\n",
       "             'side': 365,\n",
       "             'situation': 196,\n",
       "             'anything': 265,\n",
       "             'policy': 221,\n",
       "             'Definition': 4,\n",
       "             'thighs': 7,\n",
       "             'championship': 8,\n",
       "             'lifters': 4,\n",
       "             'exploration': 22,\n",
       "             'business': 363,\n",
       "             'joke': 19,\n",
       "             'somebody': 45,\n",
       "             'Spirit': 22,\n",
       "             'Whigs': 6,\n",
       "             \"Steele's\": 12,\n",
       "             'reference': 66,\n",
       "             'friend': 125,\n",
       "             'Style': 1,\n",
       "             'Friend': 8,\n",
       "             'Body': 7,\n",
       "             'Level': 1,\n",
       "             'piano': 30,\n",
       "             'sonatas': 3,\n",
       "             'chamber': 31,\n",
       "             'music': 194,\n",
       "             'gavottes': 1,\n",
       "             'marches': 1,\n",
       "             'Miami': 22,\n",
       "             'Fla.': 10,\n",
       "             'protein': 21,\n",
       "             'vitamins': 9,\n",
       "             'minerals': 11,\n",
       "             'shrubs': 4,\n",
       "             'value': 199,\n",
       "             'areas': 235,\n",
       "             'brush': 29,\n",
       "             'Palmer': 56,\n",
       "             'strokes': 12,\n",
       "             'Player': 33,\n",
       "             'Communists': 39,\n",
       "             'Germany': 81,\n",
       "             'age': 212,\n",
       "             'dealer': 24,\n",
       "             'stocks': 17,\n",
       "             'equipment': 164,\n",
       "             '25%': 6,\n",
       "             'affects': 1,\n",
       "             'recovery': 26,\n",
       "             \"country's\": 15,\n",
       "             'farm': 109,\n",
       "             'manufacturers': 40,\n",
       "             'Simpkins': 7,\n",
       "             'Somerset': 3,\n",
       "             'shunts': 5,\n",
       "             'being': 27,\n",
       "             'rats': 3,\n",
       "             'Pilgrims': 5,\n",
       "             'prayers': 13,\n",
       "             'thanks': 27,\n",
       "             'conviction': 50,\n",
       "             'need': 157,\n",
       "             \"Lord's\": 12,\n",
       "             'protection': 64,\n",
       "             'future': 134,\n",
       "             'peace': 133,\n",
       "             'Morse': 29,\n",
       "             'priests': 16,\n",
       "             'Minerals': 3,\n",
       "             'notch': 6,\n",
       "             'finish': 15,\n",
       "             'steel': 38,\n",
       "             'dog': 70,\n",
       "             'operation': 106,\n",
       "             'platform': 70,\n",
       "             \"man's\": 115,\n",
       "             'Woods': 1,\n",
       "             'duck': 2,\n",
       "             'blinds': 3,\n",
       "             'beer': 32,\n",
       "             'poker': 5,\n",
       "             'male': 24,\n",
       "             'secretaries': 6,\n",
       "             'climate': 26,\n",
       "             'impressions': 24,\n",
       "             'subject': 121,\n",
       "             'deal': 89,\n",
       "             'moments': 48,\n",
       "             'long-life': 1,\n",
       "             'components': 54,\n",
       "             'housing': 21,\n",
       "             'Pantas': 2,\n",
       "             'club': 69,\n",
       "             'chef': 8,\n",
       "             'level': 195,\n",
       "             'dark': 22,\n",
       "             'light': 251,\n",
       "             'impact': 66,\n",
       "             'labor-management': 7,\n",
       "             'relations': 93,\n",
       "             'past': 98,\n",
       "             'Moulton': 1,\n",
       "             'Wilshire': 2,\n",
       "             'Franklin': 30,\n",
       "             'Moultons': 1,\n",
       "             'S.': 114,\n",
       "             'Windsor': 2,\n",
       "             'Blvd.': 4,\n",
       "             'enterprises': 14,\n",
       "             'Electric': 4,\n",
       "             'prices': 61,\n",
       "             'way': 883,\n",
       "             'competitors': 9,\n",
       "             'wall': 137,\n",
       "             'Cereal': 4,\n",
       "             'grains': 20,\n",
       "             'soybeans': 5,\n",
       "             'peas': 24,\n",
       "             'beans': 9,\n",
       "             'two-thirds': 11,\n",
       "             'three-fourths': 2,\n",
       "             'diet': 20,\n",
       "             'Asia': 44,\n",
       "             'Africa': 45,\n",
       "             'hardship': 9,\n",
       "             'bristles': 3,\n",
       "             'Fitch': 1,\n",
       "             'one-half': 9,\n",
       "             'chisel': 4,\n",
       "             'edge': 76,\n",
       "             'arcs': 8,\n",
       "             'instance': 82,\n",
       "             '90%': 4,\n",
       "             'power': 324,\n",
       "             'anode': 77,\n",
       "             'rise': 53,\n",
       "             'heat': 86,\n",
       "             'fluxes': 4,\n",
       "             'excess': 23,\n",
       "             'authors': 23,\n",
       "             'hell': 71,\n",
       "             'niggers': 3,\n",
       "             'squad': 16,\n",
       "             'places': 91,\n",
       "             'bags': 10,\n",
       "             'seed': 39,\n",
       "             'grain': 27,\n",
       "             'author': 42,\n",
       "             'electronics': 28,\n",
       "             'application': 64,\n",
       "             'possibilities': 42,\n",
       "             'mathematics': 18,\n",
       "             'grammar': 4,\n",
       "             'school': 413,\n",
       "             'arithmetic': 5,\n",
       "             'classes': 76,\n",
       "             'president': 125,\n",
       "             'faculty': 73,\n",
       "             'autonomy': 18,\n",
       "             \"university's\": 5,\n",
       "             'income': 97,\n",
       "             'top-level': 3,\n",
       "             'peoples': 36,\n",
       "             'population': 136,\n",
       "             'Yesterday': 3,\n",
       "             'Violence': 3,\n",
       "             'Jean': 23,\n",
       "             'Reavey': 1,\n",
       "             'sound': 126,\n",
       "             'concrete': 26,\n",
       "             'air': 218,\n",
       "             'dust': 65,\n",
       "             'debris': 8,\n",
       "             'everyone': 73,\n",
       "             'women': 182,\n",
       "             'floor': 157,\n",
       "             'desks': 4,\n",
       "             'turtlebacks': 1,\n",
       "             'expansion': 45,\n",
       "             'raise': 4,\n",
       "             'taxes': 44,\n",
       "             'growth': 151,\n",
       "             'tax': 186,\n",
       "             'digest': 1,\n",
       "             'planning': 43,\n",
       "             'commissioners': 11,\n",
       "             'Chairman': 19,\n",
       "             'Charles': 96,\n",
       "             'O.': 29,\n",
       "             'Emmerich': 2,\n",
       "             'trust': 25,\n",
       "             'county': 70,\n",
       "             'officials': 56,\n",
       "             'list': 125,\n",
       "             'Blevins': 2,\n",
       "             'Flannagans': 3,\n",
       "             'figure': 147,\n",
       "             'Scripture': 3,\n",
       "             'creatures': 20,\n",
       "             'church': 223,\n",
       "             \"God's\": 38,\n",
       "             'providence': 3,\n",
       "             'literature': 131,\n",
       "             'education': 175,\n",
       "             'sensibility': 7,\n",
       "             'man': 1148,\n",
       "             'curses': 3,\n",
       "             'spirits': 42,\n",
       "             'daughter': 70,\n",
       "             'talons': 1,\n",
       "             'fingers': 66,\n",
       "             'hair': 147,\n",
       "             'trees': 95,\n",
       "             'moon': 48,\n",
       "             'arms': 115,\n",
       "             'piece': 127,\n",
       "             'cavity': 12,\n",
       "             'mold': 42,\n",
       "             'Penny': 21,\n",
       "             'grass': 52,\n",
       "             'none': 92,\n",
       "             'Mercer': 70,\n",
       "             'Shayol': 4,\n",
       "             'change': 161,\n",
       "             'paper': 152,\n",
       "             'flatness': 7,\n",
       "             'indication': 19,\n",
       "             'sign': 73,\n",
       "             'ages': 37,\n",
       "             'patients': 35,\n",
       "             'Dr.': 192,\n",
       "             'Brodie': 10,\n",
       "             'cake': 13,\n",
       "             'Bill': 65,\n",
       "             'Bailey': 3,\n",
       "             'discussions': 31,\n",
       "             'science': 105,\n",
       "             'studies': 94,\n",
       "             'humanities': 2,\n",
       "             'arts': 42,\n",
       "             \"week's\": 8,\n",
       "             'honeymoon': 10,\n",
       "             'Acapulco': 1,\n",
       "             'details': 57,\n",
       "             'Victory': 7,\n",
       "             'Sun': 10,\n",
       "             'p': 29,\n",
       "             'intention': 36,\n",
       "             \"Faulkner's\": 9,\n",
       "             'awareness': 32,\n",
       "             'borders': 10,\n",
       "             'South': 106,\n",
       "             'Southerner': 8,\n",
       "             'outlook': 35,\n",
       "             'newspapers': 37,\n",
       "             'cartoons': 5,\n",
       "             'implications': 22,\n",
       "             'headaches': 6,\n",
       "             \"Tilghman's\": 4,\n",
       "             'comrade': 4,\n",
       "             'Throat': 11,\n",
       "             'brawl': 1,\n",
       "             \"town's\": 14,\n",
       "             'funeral': 23,\n",
       "             'parlor': 18,\n",
       "             'burial': 10,\n",
       "             'Moss': 6,\n",
       "             'possum': 2,\n",
       "             'plant': 118,\n",
       "             'chief': 28,\n",
       "             'Chapter': 36,\n",
       "             'Parker': 63,\n",
       "             'minister': 46,\n",
       "             'pale': 1,\n",
       "             'repository': 4,\n",
       "             'liberality': 3,\n",
       "             'champion': 18,\n",
       "             'freedom': 119,\n",
       "             'Steinberg': 15,\n",
       "             'element': 52,\n",
       "             'score': 50,\n",
       "             'effect': 197,\n",
       "             'song': 56,\n",
       "             'Ivan': 4,\n",
       "             'Allen': 20,\n",
       "             'Jr.': 75,\n",
       "             'Sept.': 34,\n",
       "             'primary': 15,\n",
       "             'Mayor': 30,\n",
       "             'Hartsfield': 5,\n",
       "             'reelection': 2,\n",
       "             'Requests': 3,\n",
       "             'agencies': 61,\n",
       "             'assignments': 18,\n",
       "             'cars': 109,\n",
       "             'Hood': 3,\n",
       "             'house': 391,\n",
       "             'Blanche': 24,\n",
       "             'Dunkel': 2,\n",
       "             'Dwight': 12,\n",
       "             'reformatory': 2,\n",
       "             'murder': 68,\n",
       "             'son-in-law': 4,\n",
       "             'Ervin': 2,\n",
       "             'Lang': 1,\n",
       "             'parole': 5,\n",
       "             'hearing': 48,\n",
       "             'yesterday': 80,\n",
       "             'pardon': 4,\n",
       "             'John': 360,\n",
       "             'M.': 62,\n",
       "             'Bookwalter': 1,\n",
       "             'Joseph': 55,\n",
       "             'Carpentier': 1,\n",
       "             'trend': 46,\n",
       "             'bargaining': 16,\n",
       "             'Geneva': 17,\n",
       "             'negotiations': 20,\n",
       "             'Laos': 64,\n",
       "             'Vietnam': 3,\n",
       "             'nations': 117,\n",
       "             'pressure': 183,\n",
       "             'lease': 7,\n",
       "             'option': 5,\n",
       "             'verdict': 15,\n",
       "             'neighbor': 13,\n",
       "             'Hengesbach': 9,\n",
       "             'announcement': 24,\n",
       "             'bond': 43,\n",
       "             'City': 134,\n",
       "             'Solicitor': 3,\n",
       "             'David': 51,\n",
       "             'Berger': 15,\n",
       "             'press': 81,\n",
       "             'conference': 61,\n",
       "             'morning': 208,\n",
       "             'Wagner': 21,\n",
       "             'PTC': 3,\n",
       "             'representatives': 27,\n",
       "             'engineering': 9,\n",
       "             'firm': 59,\n",
       "             'project': 79,\n",
       "             'completion': 36,\n",
       "             'key': 51,\n",
       "             'shoe': 14,\n",
       "             'engine': 47,\n",
       "             'fog': 24,\n",
       "             'refrigerator': 23,\n",
       "             'Knauer': 2,\n",
       "             'owners': 34,\n",
       "             \"city's\": 20,\n",
       "             'animal': 68,\n",
       "             'care': 85,\n",
       "             'bar': 68,\n",
       "             'spacers': 5,\n",
       "             'frame': 69,\n",
       "             'country': 312,\n",
       "             'folk': 33,\n",
       "             'dances': 19,\n",
       "             'Virginia': 75,\n",
       "             'Reels': 1,\n",
       "             'square': 77,\n",
       "             'trains': 14,\n",
       "             'migration': 5,\n",
       "             'Briton': 1,\n",
       "             'Stirling': 2,\n",
       "             'road-circuit': 1,\n",
       "             ...})"
      ]
     },
     "execution_count": 13,
     "metadata": {},
     "output_type": "execute_result"
    }
   ],
   "source": [
    "emission_counts['NOUN']"
   ]
  },
  {
   "cell_type": "markdown",
   "metadata": {},
   "source": [
    "### IMPLEMENTATION: Most Frequent Class Tagger\n",
    "\n",
    "Use the `pair_counts()` function and the training dataset to find the most frequent class label for each word in the training data, and populate the `mfc_table` below. The table keys should be words, and the values should be the appropriate tag string.\n",
    "\n",
    "The `MFCTagger` class is provided to mock the interface of Pomegranite HMM models so that they can be used interchangeably."
   ]
  },
  {
   "cell_type": "code",
   "execution_count": 14,
   "metadata": {},
   "outputs": [
    {
     "data": {
      "text/html": [
       "<div class=\"alert alert-block alert-success\">Your MFC tagger has all the correct words!</div>"
      ],
      "text/plain": [
       "<IPython.core.display.HTML object>"
      ]
     },
     "execution_count": 14,
     "metadata": {},
     "output_type": "execute_result"
    }
   ],
   "source": [
    "# Create a lookup table mfc_table where mfc_table[word] contains the tag label most frequently assigned to that word\n",
    "from collections import namedtuple\n",
    "\n",
    "FakeState = namedtuple(\"FakeState\", \"name\")\n",
    "\n",
    "class MFCTagger:\n",
    "    # NOTE: You should not need to modify this class or any of its methods\n",
    "    missing = FakeState(name=\"<MISSING>\")\n",
    "    \n",
    "    def __init__(self, table):\n",
    "        self.table = defaultdict(lambda: MFCTagger.missing)\n",
    "        self.table.update({word: FakeState(name=tag) for word, tag in table.items()})\n",
    "        \n",
    "    def viterbi(self, seq):\n",
    "        \"\"\"This method simplifies predictions by matching the Pomegranate viterbi() interface\"\"\"\n",
    "        return 0., list(enumerate([\"<start>\"] + [self.table[w] for w in seq] + [\"<end>\"]))\n",
    "\n",
    "\n",
    "# TODO: calculate the frequency of each tag being assigned to each word (hint: similar, but not\n",
    "# the same as the emission probabilities) and use it to fill the mfc_table\n",
    "\n",
    "word_counts = pair_counts(data.training_set.X, data.training_set.Y)\n",
    "\n",
    "# # to get all results\n",
    "all_table = [[v,k, m] for k in word_counts.keys() for v in word_counts[k] for m in [word_counts[k][v]]]\n",
    "\n",
    "  \n",
    "\n",
    "new=dict()\n",
    "\n",
    "for i in all_table:   \n",
    "   \n",
    "    if i[0] not in new:\n",
    "        new[i[0]] = [i[1], i[2]]\n",
    "    else:  \n",
    "    \n",
    "        if new[i[0]][1]< i[2]:\n",
    "            new[i[0]] = i[1:]\n",
    "mfc_table = {i:j[0] for i,j in new.items()}\n",
    "\n",
    "    \n",
    "# DO NOT MODIFY BELOW THIS LINE\n",
    "mfc_model = MFCTagger(mfc_table) # Create a Most Frequent Class tagger instance\n",
    "\n",
    "assert len(mfc_table) == len(data.training_set.vocab), \"\"\n",
    "assert all(k in data.training_set.vocab for k in mfc_table.keys()), \"\"\n",
    "assert sum(int(k not in mfc_table) for k in data.testing_set.vocab) == 5521, \"\"\n",
    "HTML('<div class=\"alert alert-block alert-success\">Your MFC tagger has all the correct words!</div>')"
   ]
  },
  {
   "cell_type": "code",
   "execution_count": null,
   "metadata": {},
   "outputs": [],
   "source": []
  },
  {
   "cell_type": "code",
   "execution_count": 15,
   "metadata": {},
   "outputs": [
    {
     "data": {
      "text/plain": [
       "list"
      ]
     },
     "execution_count": 15,
     "metadata": {},
     "output_type": "execute_result"
    }
   ],
   "source": [
    "type(all_table)"
   ]
  },
  {
   "cell_type": "code",
   "execution_count": 16,
   "metadata": {},
   "outputs": [
    {
     "data": {
      "text/plain": [
       "[['Whenever', 'ADV', 12], ['indeed', 'ADV', 92], ['almost', 'ADV', 302]]"
      ]
     },
     "execution_count": 16,
     "metadata": {},
     "output_type": "execute_result"
    }
   ],
   "source": [
    "all_table[:3]"
   ]
  },
  {
   "cell_type": "markdown",
   "metadata": {},
   "source": [
    "### Making Predictions with a Model\n",
    "The helper functions provided below interface with Pomegranate network models & the mocked MFCTagger to take advantage of the [missing value](http://pomegranate.readthedocs.io/en/latest/nan.html) functionality in Pomegranate through a simple sequence decoding function. Run these functions, then run the next cell to see some of the predictions made by the MFC tagger."
   ]
  },
  {
   "cell_type": "code",
   "execution_count": 17,
   "metadata": {},
   "outputs": [],
   "source": [
    "def replace_unknown(sequence):\n",
    "    \"\"\"Return a copy of the input sequence where each unknown word is replaced\n",
    "    by the literal string value 'nan'. Pomegranate will ignore these values\n",
    "    during computation.\n",
    "    \"\"\"\n",
    "    return [w if w in data.training_set.vocab else 'nan' for w in sequence]\n",
    "\n",
    "def simplify_decoding(X, model):\n",
    "    \"\"\"X should be a 1-D sequence of observations for the model to predict\"\"\"\n",
    "    _, state_path = model.viterbi(replace_unknown(X))\n",
    "    return [state[1].name for state in state_path[1:-1]]  # do not show the start/end state predictions"
   ]
  },
  {
   "cell_type": "markdown",
   "metadata": {},
   "source": [
    "### Example Decoding Sequences with MFC Tagger"
   ]
  },
  {
   "cell_type": "code",
   "execution_count": 18,
   "metadata": {},
   "outputs": [
    {
     "name": "stdout",
     "output_type": "stream",
     "text": [
      "Sentence Key: b100-28144\n",
      "\n",
      "Predicted labels:\n",
      "-----------------\n",
      "['CONJ', 'NOUN', 'NUM', '.', 'NOUN', 'NUM', '.', 'NOUN', 'NUM', '.', 'CONJ', 'NOUN', 'NUM', '.', '.', 'NOUN', '.', '.']\n",
      "\n",
      "Actual labels:\n",
      "--------------\n",
      "('CONJ', 'NOUN', 'NUM', '.', 'NOUN', 'NUM', '.', 'NOUN', 'NUM', '.', 'CONJ', 'NOUN', 'NUM', '.', '.', 'NOUN', '.', '.')\n",
      "\n",
      "\n",
      "Sentence Key: b100-23146\n",
      "\n",
      "Predicted labels:\n",
      "-----------------\n",
      "['PRON', 'VERB', 'DET', 'NOUN', 'ADP', 'ADJ', 'ADJ', 'NOUN', 'VERB', 'VERB', '.', 'ADP', 'VERB', 'DET', 'NOUN', 'ADP', 'NOUN', 'ADP', 'DET', 'NOUN', '.']\n",
      "\n",
      "Actual labels:\n",
      "--------------\n",
      "('PRON', 'VERB', 'DET', 'NOUN', 'ADP', 'ADJ', 'ADJ', 'NOUN', 'VERB', 'VERB', '.', 'ADP', 'VERB', 'DET', 'NOUN', 'ADP', 'NOUN', 'ADP', 'DET', 'NOUN', '.')\n",
      "\n",
      "\n",
      "Sentence Key: b100-35462\n",
      "\n",
      "Predicted labels:\n",
      "-----------------\n",
      "['DET', 'ADJ', 'NOUN', 'VERB', 'VERB', 'VERB', 'ADP', 'DET', 'ADJ', 'ADJ', 'NOUN', 'ADP', 'DET', 'ADJ', 'NOUN', '.', 'ADP', 'ADJ', 'NOUN', '.', 'CONJ', 'ADP', 'DET', '<MISSING>', 'ADP', 'ADJ', 'ADJ', '.', 'ADJ', '.', 'CONJ', 'ADJ', 'NOUN', 'ADP', 'ADV', 'NOUN', '.']\n",
      "\n",
      "Actual labels:\n",
      "--------------\n",
      "('DET', 'ADJ', 'NOUN', 'VERB', 'VERB', 'VERB', 'ADP', 'DET', 'ADJ', 'ADJ', 'NOUN', 'ADP', 'DET', 'ADJ', 'NOUN', '.', 'ADP', 'ADJ', 'NOUN', '.', 'CONJ', 'ADP', 'DET', 'NOUN', 'ADP', 'ADJ', 'ADJ', '.', 'ADJ', '.', 'CONJ', 'ADJ', 'NOUN', 'ADP', 'ADJ', 'NOUN', '.')\n",
      "\n",
      "\n"
     ]
    }
   ],
   "source": [
    "for key in data.testing_set.keys[:3]:\n",
    "    print(\"Sentence Key: {}\\n\".format(key))\n",
    "    print(\"Predicted labels:\\n-----------------\")\n",
    "    print(simplify_decoding(data.sentences[key].words, mfc_model))\n",
    "    print()\n",
    "    print(\"Actual labels:\\n--------------\")\n",
    "    print(data.sentences[key].tags)\n",
    "    print(\"\\n\")"
   ]
  },
  {
   "cell_type": "markdown",
   "metadata": {},
   "source": [
    "### Evaluating Model Accuracy\n",
    "\n",
    "The function below will evaluate the accuracy of the MFC tagger on the collection of all sentences from a text corpus. "
   ]
  },
  {
   "cell_type": "code",
   "execution_count": 19,
   "metadata": {},
   "outputs": [],
   "source": [
    "def accuracy(X, Y, model):\n",
    "    \"\"\"Calculate the prediction accuracy by using the model to decode each sequence\n",
    "    in the input X and comparing the prediction with the true labels in Y.\n",
    "    \n",
    "    The X should be an array whose first dimension is the number of sentences to test,\n",
    "    and each element of the array should be an iterable of the words in the sequence.\n",
    "    The arrays X and Y should have the exact same shape.\n",
    "    \n",
    "    X = [(\"See\", \"Spot\", \"run\"), (\"Run\", \"Spot\", \"run\", \"fast\"), ...]\n",
    "    Y = [(), (), ...]\n",
    "    \"\"\"\n",
    "    correct = total_predictions = 0\n",
    "    for observations, actual_tags in zip(X, Y):\n",
    "        \n",
    "        # The model.viterbi call in simplify_decoding will return None if the HMM\n",
    "        # raises an error (for example, if a test sentence contains a word that\n",
    "        # is out of vocabulary for the training set). Any exception counts the\n",
    "        # full sentence as an error (which makes this a conservative estimate).\n",
    "        try:\n",
    "            most_likely_tags = simplify_decoding(observations, model)\n",
    "            correct += sum(p == t for p, t in zip(most_likely_tags, actual_tags))\n",
    "        except:\n",
    "            pass\n",
    "        total_predictions += len(observations)\n",
    "    return correct / total_predictions"
   ]
  },
  {
   "cell_type": "markdown",
   "metadata": {},
   "source": [
    "#### Evaluate the accuracy of the MFC tagger\n",
    "Run the next cell to evaluate the accuracy of the tagger on the training and test corpus."
   ]
  },
  {
   "cell_type": "code",
   "execution_count": 20,
   "metadata": {},
   "outputs": [
    {
     "name": "stdout",
     "output_type": "stream",
     "text": [
      "training accuracy mfc_model: 95.72%\n",
      "testing accuracy mfc_model: 93.02%\n"
     ]
    },
    {
     "data": {
      "text/html": [
       "<div class=\"alert alert-block alert-success\">Your MFC tagger accuracy looks correct!</div>"
      ],
      "text/plain": [
       "<IPython.core.display.HTML object>"
      ]
     },
     "execution_count": 20,
     "metadata": {},
     "output_type": "execute_result"
    }
   ],
   "source": [
    "mfc_training_acc = accuracy(data.training_set.X, data.training_set.Y, mfc_model)\n",
    "print(\"training accuracy mfc_model: {:.2f}%\".format(100 * mfc_training_acc))\n",
    "\n",
    "mfc_testing_acc = accuracy(data.testing_set.X, data.testing_set.Y, mfc_model)\n",
    "print(\"testing accuracy mfc_model: {:.2f}%\".format(100 * mfc_testing_acc))\n",
    "\n",
    "assert mfc_training_acc >= 0.955, \"Uh oh. Your MFC accuracy on the training set doesn't look right.\"\n",
    "assert mfc_testing_acc >= 0.925, \"Uh oh. Your MFC accuracy on the testing set doesn't look right.\"\n",
    "HTML('<div class=\"alert alert-block alert-success\">Your MFC tagger accuracy looks correct!</div>')"
   ]
  },
  {
   "cell_type": "markdown",
   "metadata": {},
   "source": [
    "## Step 3: Build an HMM tagger\n",
    "---\n",
    "The HMM tagger has one hidden state for each possible tag, and parameterized by two distributions: the emission probabilties giving the conditional probability of observing a given **word** from each hidden state, and the transition probabilities giving the conditional probability of moving between **tags** during the sequence.\n",
    "\n",
    "We will also estimate the starting probability distribution (the probability of each **tag** being the first tag in a sequence), and the terminal probability distribution (the probability of each **tag** being the last tag in a sequence).\n",
    "\n",
    "The maximum likelihood estimate of these distributions can be calculated from the frequency counts as described in the following sections where you'll implement functions to count the frequencies, and finally build the model. The HMM model will make predictions according to the formula:\n",
    "\n",
    "$$t_i^n = \\underset{t_i^n}{\\mathrm{argmax}} \\prod_{i=1}^n P(w_i|t_i) P(t_i|t_{i-1})$$\n",
    "\n",
    "Refer to Speech & Language Processing [Chapter 10](https://web.stanford.edu/~jurafsky/slp3/10.pdf) for more information."
   ]
  },
  {
   "cell_type": "markdown",
   "metadata": {},
   "source": [
    "### IMPLEMENTATION: Unigram Counts\n",
    "\n",
    "Complete the function below to estimate the co-occurrence frequency of each symbol over all of the input sequences. The unigram probabilities in our HMM model are estimated from the formula below, where N is the total number of samples in the input. (You only need to compute the counts for now.)\n",
    "\n",
    "$$P(tag_1) = \\frac{C(tag_1)}{N}$$"
   ]
  },
  {
   "cell_type": "code",
   "execution_count": 21,
   "metadata": {},
   "outputs": [
    {
     "data": {
      "text/html": [
       "<div class=\"alert alert-block alert-success\">Your tag unigrams look good!</div>"
      ],
      "text/plain": [
       "<IPython.core.display.HTML object>"
      ]
     },
     "execution_count": 21,
     "metadata": {},
     "output_type": "execute_result"
    }
   ],
   "source": [
    "def unigram_counts(sequences):\n",
    "    \"\"\"Return a dictionary keyed to each unique value in the input sequence list that\n",
    "    counts the number of occurrences of the value in the sequences list. The sequences\n",
    "    collection should be a 2-dimensional array.\n",
    "    \n",
    "    For example, if the tag NOUN appears 275558 times over all the input sequences,\n",
    "    then you should return a dictionary such that your_unigram_counts[NOUN] == 275558.\n",
    "    \"\"\"\n",
    "    output={}\n",
    "    for i in list(set(sequences)):\n",
    "        output[i]=sequences.count(i)\n",
    "    return output\n",
    "\n",
    "# TODO: call unigram_counts with a list of tag sequences from the training set\n",
    "ty = [j for i in data.training_set.Y for j in i ]\n",
    "tag_unigrams = unigram_counts(ty)\n",
    "\n",
    "assert set(tag_unigrams.keys()) == data.training_set.tagset, \\\n",
    "       \"Uh oh. It looks like your tag counts doesn't include all the tags!\"\n",
    "assert min(tag_unigrams, key=tag_unigrams.get) == 'X', \\\n",
    "       \"Hmmm...'X' is expected to be the least common class\"\n",
    "assert max(tag_unigrams, key=tag_unigrams.get) == 'NOUN', \\\n",
    "       \"Hmmm...'NOUN' is expected to be the most common class\"\n",
    "HTML('<div class=\"alert alert-block alert-success\">Your tag unigrams look good!</div>')"
   ]
  },
  {
   "cell_type": "code",
   "execution_count": 22,
   "metadata": {},
   "outputs": [
    {
     "data": {
      "text/plain": [
       "{'CONJ': 30537,\n",
       " '.': 117757,\n",
       " 'PRT': 23906,\n",
       " 'NUM': 11878,\n",
       " 'VERB': 146161,\n",
       " 'X': 1094,\n",
       " 'NOUN': 220632,\n",
       " 'DET': 109671,\n",
       " 'PRON': 39383,\n",
       " 'ADP': 115808,\n",
       " 'ADV': 44877,\n",
       " 'ADJ': 66754}"
      ]
     },
     "execution_count": 22,
     "metadata": {},
     "output_type": "execute_result"
    }
   ],
   "source": [
    "tag_unigrams"
   ]
  },
  {
   "cell_type": "markdown",
   "metadata": {},
   "source": [
    "### IMPLEMENTATION: Bigram Counts\n",
    "\n",
    "Complete the function below to estimate the co-occurrence frequency of each pair of symbols in each of the input sequences. These counts are used in the HMM model to estimate the bigram probability of two tags from the frequency counts according to the formula: $$P(tag_2|tag_1) = \\frac{C(tag_2|tag_1)}{C(tag_2)}$$\n"
   ]
  },
  {
   "cell_type": "code",
   "execution_count": 32,
   "metadata": {},
   "outputs": [
    {
     "data": {
      "text/html": [
       "<div class=\"alert alert-block alert-success\">Your tag bigrams look good!</div>"
      ],
      "text/plain": [
       "<IPython.core.display.HTML object>"
      ]
     },
     "execution_count": 32,
     "metadata": {},
     "output_type": "execute_result"
    }
   ],
   "source": [
    "def bigram_counts(sequences):\n",
    "    \"\"\"Return a dictionary keyed to each unique PAIR of values in the input sequences\n",
    "    list that counts the number of occurrences of pair in the sequences list. The input\n",
    "    should be a 2-dimensional array.\n",
    "    \n",
    "    For example, if the pair of tags (NOUN, VERB) appear 61582 times, then you should\n",
    "    return a dictionary such that your_bigram_counts[(NOUN, VERB)] == 61582\n",
    "    \"\"\"\n",
    "    return unigram_counts(sequences)\n",
    "        \n",
    "        \n",
    "\n",
    "# TODO: call bigram_counts with a list of tag sequences from the training set\n",
    "ty2 = [(i[j], i[j+1]) for i in data.training_set.Y for j in range(len(i)-1) ]\n",
    "tag_bigrams = bigram_counts(ty2)\n",
    "\n",
    "assert len(tag_bigrams) == 144, \\\n",
    "       \"Uh oh. There should be 144 pairs of bigrams (12 tags x 12 tags)\"\n",
    "assert min(tag_bigrams, key=tag_bigrams.get) in [('X', 'NUM'), ('PRON', 'X')], \\\n",
    "       \"Hmmm...The least common bigram should be one of ('X', 'NUM') or ('PRON', 'X').\"\n",
    "assert max(tag_bigrams, key=tag_bigrams.get) in [('DET', 'NOUN')], \\\n",
    "       \"Hmmm...('DET', 'NOUN') is expected to be the most common bigram.\"\n",
    "HTML('<div class=\"alert alert-block alert-success\">Your tag bigrams look good!</div>')"
   ]
  },
  {
   "cell_type": "markdown",
   "metadata": {},
   "source": [
    "### IMPLEMENTATION: Sequence Starting Counts\n",
    "Complete the code below to estimate the bigram probabilities of a sequence starting with each tag."
   ]
  },
  {
   "cell_type": "code",
   "execution_count": 24,
   "metadata": {},
   "outputs": [
    {
     "data": {
      "text/html": [
       "<div class=\"alert alert-block alert-success\">Your starting tag counts look good!</div>"
      ],
      "text/plain": [
       "<IPython.core.display.HTML object>"
      ]
     },
     "execution_count": 24,
     "metadata": {},
     "output_type": "execute_result"
    }
   ],
   "source": [
    "def starting_counts(sequences):\n",
    "    \"\"\"Return a dictionary keyed to each unique value in the input sequences list\n",
    "    that counts the number of occurrences where that value is at the beginning of\n",
    "    a sequence.\n",
    "    \n",
    "    For example, if 8093 sequences start with NOUN, then you should return a\n",
    "    dictionary such that your_starting_counts[NOUN] == 8093\n",
    "    \"\"\"\n",
    "    # TODO: Finish this function!\n",
    "    return unigram_counts(sequences)\n",
    "\n",
    "# TODO: Calculate the count of each tag starting a sequence\n",
    "ty3 = [i[0] for i in data.training_set.Y ]\n",
    "tag_starts = starting_counts(ty3)\n",
    "\n",
    "assert len(tag_starts) == 12, \"Uh oh. There should be 12 tags in your dictionary.\"\n",
    "assert min(tag_starts, key=tag_starts.get) == 'X', \"Hmmm...'X' is expected to be the least common starting bigram.\"\n",
    "assert max(tag_starts, key=tag_starts.get) == 'DET', \"Hmmm...'DET' is expected to be the most common starting bigram.\"\n",
    "HTML('<div class=\"alert alert-block alert-success\">Your starting tag counts look good!</div>')"
   ]
  },
  {
   "cell_type": "markdown",
   "metadata": {},
   "source": [
    "### IMPLEMENTATION: Sequence Ending Counts\n",
    "Complete the function below to estimate the bigram probabilities of a sequence ending with each tag."
   ]
  },
  {
   "cell_type": "code",
   "execution_count": 25,
   "metadata": {},
   "outputs": [
    {
     "data": {
      "text/html": [
       "<div class=\"alert alert-block alert-success\">Your ending tag counts look good!</div>"
      ],
      "text/plain": [
       "<IPython.core.display.HTML object>"
      ]
     },
     "execution_count": 25,
     "metadata": {},
     "output_type": "execute_result"
    }
   ],
   "source": [
    "def ending_counts(sequences):\n",
    "    \"\"\"Return a dictionary keyed to each unique value in the input sequences list\n",
    "    that counts the number of occurrences where that value is at the end of\n",
    "    a sequence.\n",
    "    \n",
    "    For example, if 18 sequences end with DET, then you should return a\n",
    "    dictionary such that your_starting_counts[DET] == 18\n",
    "    \"\"\"\n",
    "    # TODO: Finish this function!\n",
    "    return unigram_counts(sequences)\n",
    "\n",
    "# TODO: Calculate the count of each tag ending a sequence\n",
    "ty4 = [i[-1] for i in data.training_set.Y ]\n",
    "tag_ends = ending_counts(ty4)\n",
    "\n",
    "assert len(tag_ends) == 12, \"Uh oh. There should be 12 tags in your dictionary.\"\n",
    "assert min(tag_ends, key=tag_ends.get) in ['X', 'CONJ'], \"Hmmm...'X' or 'CONJ' should be the least common ending bigram.\"\n",
    "assert max(tag_ends, key=tag_ends.get) == '.', \"Hmmm...'.' is expected to be the most common ending bigram.\"\n",
    "HTML('<div class=\"alert alert-block alert-success\">Your ending tag counts look good!</div>')"
   ]
  },
  {
   "cell_type": "code",
   "execution_count": 26,
   "metadata": {},
   "outputs": [],
   "source": [
    "emissions = pair_counts( data.training_set.X ,data.training_set.Y)\n"
   ]
  },
  {
   "cell_type": "code",
   "execution_count": 42,
   "metadata": {},
   "outputs": [
    {
     "data": {
      "text/plain": [
       "dict_keys(['CONJ', 'PRT', '.', 'NUM', 'VERB', 'X', 'NOUN', 'DET', 'PRON', 'ADP', 'ADV', 'ADJ'])"
      ]
     },
     "execution_count": 42,
     "metadata": {},
     "output_type": "execute_result"
    }
   ],
   "source": [
    "tag_starts.keys()"
   ]
  },
  {
   "cell_type": "markdown",
   "metadata": {},
   "source": [
    "### IMPLEMENTATION: Basic HMM Tagger\n",
    "Use the tag unigrams and bigrams calculated above to construct a hidden Markov tagger.\n",
    "\n",
    "- Add one state per tag\n",
    "    - The emission distribution at each state should be estimated with the formula: $P(w|t) = \\frac{C(t, w)}{C(t)}$\n",
    "- Add an edge from the starting state `basic_model.start` to each tag\n",
    "    - The transition probability should be estimated with the formula: $P(t|start) = \\frac{C(start, t)}{C(start)}$\n",
    "- Add an edge from each tag to the end state `basic_model.end`\n",
    "    - The transition probability should be estimated with the formula: $P(end|t) = \\frac{C(t, end)}{C(t)}$\n",
    "- Add an edge between _every_ pair of tags\n",
    "    - The transition probability should be estimated with the formula: $P(t_2|t_1) = \\frac{C(t_1, t_2)}{C(t_1)}$"
   ]
  },
  {
   "cell_type": "code",
   "execution_count": 43,
   "metadata": {},
   "outputs": [
    {
     "data": {
      "text/html": [
       "<div class=\"alert alert-block alert-success\">Your HMM network topology looks good!</div>"
      ],
      "text/plain": [
       "<IPython.core.display.HTML object>"
      ]
     },
     "execution_count": 43,
     "metadata": {},
     "output_type": "execute_result"
    }
   ],
   "source": [
    "basic_model = HiddenMarkovModel(name=\"base-hmm-tagger\")\n",
    "\n",
    "# TODO: create states with emission probability distributions P(word | tag) and add to the model\n",
    "# (Hint: you may need to loop & create/add new states)\n",
    "\n",
    "states = {}\n",
    "for t in emissions.keys():\n",
    "    distributions = {}\n",
    "    sum_for_the_tag = tag_unigrams[t]\n",
    "    for each_word in emissions[t].keys():\n",
    "        distributions[each_word] = emissions[t][each_word]/sum_for_the_tag\n",
    "\n",
    "    tag_distribution = DiscreteDistribution(distributions)\n",
    "    state = State(tag_distribution, name = t)\n",
    "    states[t]= state\n",
    "    basic_model.add_states(state)\n",
    "\n",
    "    \n",
    "# TODO: add edges between states for the observed transition frequencies P(tag_i | tag_i-1)\n",
    "# (Hint: you may need to loop & add transitions\n",
    "# basic_model.add_transition()\n",
    "\n",
    "\n",
    "# add start\n",
    "tag_starts_sum = sum(tag_starts.values())\n",
    "for tag in tag_starts.keys():\n",
    "    basic_model.add_transition(basic_model.start, states[tag], tag_starts[tag]/tag_starts_sum)\n",
    "\n",
    "# add end\n",
    "tag_ends_sum = sum(tag_ends.values())\n",
    "for tag in tag_ends.keys():\n",
    "    basic_model.add_transition( states[tag], basic_model.end, tag_ends[tag]/tag_ends_sum)\n",
    "\n",
    "    \n",
    "    \n",
    "# add bewteen\n",
    "\n",
    "tag_bigram_sum = sum(tag_bigrams.values())\n",
    "for tag in tag_bigrams.keys():\n",
    "    basic_model.add_transition(states[tag[0]], states[tag[1]] , tag_bigrams[tag]/tag_bigram_sum)\n",
    "\n",
    "    \n",
    "\n",
    "# NOTE: YOU SHOULD NOT NEED TO MODIFY ANYTHING BELOW THIS LINE\n",
    "# finalize the model\n",
    "basic_model.bake()\n",
    "\n",
    "assert all(tag in set(s.name for s in basic_model.states) for tag in data.training_set.tagset), \\\n",
    "       \"Every state in your network should use the name of the associated tag, which must be one of the training set tags.\"\n",
    "assert basic_model.edge_count() == 168, \\\n",
    "       (\"Your network should have an edge from the start node to each state, one edge between every \" +\n",
    "        \"pair of tags (states), and an edge from each state to the end node.\")\n",
    "HTML('<div class=\"alert alert-block alert-success\">Your HMM network topology looks good!</div>')"
   ]
  },
  {
   "cell_type": "code",
   "execution_count": null,
   "metadata": {},
   "outputs": [],
   "source": []
  },
  {
   "cell_type": "code",
   "execution_count": 44,
   "metadata": {
    "scrolled": true
   },
   "outputs": [
    {
     "name": "stdout",
     "output_type": "stream",
     "text": [
      "training accuracy basic hmm model: 97.53%\n",
      "testing accuracy basic hmm model: 95.97%\n"
     ]
    },
    {
     "data": {
      "text/html": [
       "<div class=\"alert alert-block alert-success\">Your HMM tagger accuracy looks correct! Congratulations, you've finished the project.</div>"
      ],
      "text/plain": [
       "<IPython.core.display.HTML object>"
      ]
     },
     "execution_count": 44,
     "metadata": {},
     "output_type": "execute_result"
    }
   ],
   "source": [
    "hmm_training_acc = accuracy(data.training_set.X, data.training_set.Y, basic_model)\n",
    "print(\"training accuracy basic hmm model: {:.2f}%\".format(100 * hmm_training_acc))\n",
    "\n",
    "hmm_testing_acc = accuracy(data.testing_set.X, data.testing_set.Y, basic_model)\n",
    "print(\"testing accuracy basic hmm model: {:.2f}%\".format(100 * hmm_testing_acc))\n",
    "\n",
    "assert hmm_training_acc > 0.97, \"Uh oh. Your HMM accuracy on the training set doesn't look right.\"\n",
    "assert hmm_testing_acc > 0.955, \"Uh oh. Your HMM accuracy on the testing set doesn't look right.\"\n",
    "HTML('<div class=\"alert alert-block alert-success\">Your HMM tagger accuracy looks correct! Congratulations, you\\'ve finished the project.</div>')"
   ]
  },
  {
   "cell_type": "markdown",
   "metadata": {},
   "source": [
    "### Example Decoding Sequences with the HMM Tagger"
   ]
  },
  {
   "cell_type": "code",
   "execution_count": 45,
   "metadata": {},
   "outputs": [
    {
     "name": "stdout",
     "output_type": "stream",
     "text": [
      "Sentence Key: b100-28144\n",
      "\n",
      "Predicted labels:\n",
      "-----------------\n",
      "['CONJ', 'NOUN', 'NUM', '.', 'NOUN', 'NUM', '.', 'NOUN', 'NUM', '.', 'CONJ', 'NOUN', 'NUM', '.', '.', 'NOUN', '.', '.']\n",
      "\n",
      "Actual labels:\n",
      "--------------\n",
      "('CONJ', 'NOUN', 'NUM', '.', 'NOUN', 'NUM', '.', 'NOUN', 'NUM', '.', 'CONJ', 'NOUN', 'NUM', '.', '.', 'NOUN', '.', '.')\n",
      "\n",
      "\n",
      "Sentence Key: b100-23146\n",
      "\n",
      "Predicted labels:\n",
      "-----------------\n",
      "['PRON', 'VERB', 'DET', 'NOUN', 'ADP', 'ADJ', 'ADJ', 'NOUN', 'VERB', 'VERB', '.', 'ADP', 'VERB', 'DET', 'NOUN', 'ADP', 'NOUN', 'ADP', 'DET', 'NOUN', '.']\n",
      "\n",
      "Actual labels:\n",
      "--------------\n",
      "('PRON', 'VERB', 'DET', 'NOUN', 'ADP', 'ADJ', 'ADJ', 'NOUN', 'VERB', 'VERB', '.', 'ADP', 'VERB', 'DET', 'NOUN', 'ADP', 'NOUN', 'ADP', 'DET', 'NOUN', '.')\n",
      "\n",
      "\n",
      "Sentence Key: b100-35462\n",
      "\n",
      "Predicted labels:\n",
      "-----------------\n",
      "['DET', 'ADJ', 'NOUN', 'VERB', 'VERB', 'VERB', 'ADP', 'DET', 'ADJ', 'ADJ', 'NOUN', 'ADP', 'DET', 'ADJ', 'NOUN', '.', 'ADP', 'ADJ', 'NOUN', '.', 'CONJ', 'ADP', 'DET', 'NOUN', 'ADP', 'ADJ', 'ADJ', '.', 'ADJ', '.', 'CONJ', 'ADJ', 'NOUN', 'ADP', 'ADJ', 'NOUN', '.']\n",
      "\n",
      "Actual labels:\n",
      "--------------\n",
      "('DET', 'ADJ', 'NOUN', 'VERB', 'VERB', 'VERB', 'ADP', 'DET', 'ADJ', 'ADJ', 'NOUN', 'ADP', 'DET', 'ADJ', 'NOUN', '.', 'ADP', 'ADJ', 'NOUN', '.', 'CONJ', 'ADP', 'DET', 'NOUN', 'ADP', 'ADJ', 'ADJ', '.', 'ADJ', '.', 'CONJ', 'ADJ', 'NOUN', 'ADP', 'ADJ', 'NOUN', '.')\n",
      "\n",
      "\n"
     ]
    }
   ],
   "source": [
    "for key in data.testing_set.keys[:3]:\n",
    "    print(\"Sentence Key: {}\\n\".format(key))\n",
    "    print(\"Predicted labels:\\n-----------------\")\n",
    "    print(simplify_decoding(data.sentences[key].words, basic_model))\n",
    "    print()\n",
    "    print(\"Actual labels:\\n--------------\")\n",
    "    print(data.sentences[key].tags)\n",
    "    print(\"\\n\")"
   ]
  },
  {
   "cell_type": "markdown",
   "metadata": {},
   "source": [
    "\n",
    "## Finishing the project\n",
    "---\n",
    "\n",
    "<div class=\"alert alert-block alert-info\">\n",
    "**Note:** **SAVE YOUR NOTEBOOK**, then run the next cell to generate an HTML copy. You will zip & submit both this file and the HTML copy for review.\n",
    "</div>"
   ]
  },
  {
   "cell_type": "code",
   "execution_count": 48,
   "metadata": {},
   "outputs": [
    {
     "data": {
      "text/plain": [
       "['[NbConvertApp] Converting notebook HMM_Tagger.ipynb to html',\n",
       " '[NbConvertApp] Writing 424006 bytes to HMM_Tagger.html',\n",
       " '[NbConvertApp] Converting notebook HMM Tagger-zh.ipynb to html',\n",
       " '[NbConvertApp] Writing 355982 bytes to HMM Tagger-zh.html',\n",
       " '[NbConvertApp] Converting notebook HMM warmup (optional).ipynb to html',\n",
       " '[NbConvertApp] Writing 356645 bytes to HMM warmup (optional).html',\n",
       " '[NbConvertApp] Converting notebook HMM warmup (optional)-zh.ipynb to html',\n",
       " '[NbConvertApp] Writing 321728 bytes to HMM warmup (optional)-zh.html']"
      ]
     },
     "execution_count": 48,
     "metadata": {},
     "output_type": "execute_result"
    }
   ],
   "source": [
    "!!jupyter nbconvert *.ipynb"
   ]
  },
  {
   "cell_type": "markdown",
   "metadata": {},
   "source": [
    "## Step 4: [Optional] Improving model performance\n",
    "---\n",
    "There are additional enhancements that can be incorporated into your tagger that improve performance on larger tagsets where the data sparsity problem is more significant. The data sparsity problem arises because the same amount of data split over more tags means there will be fewer samples in each tag, and there will be more missing data  tags that have zero occurrences in the data. The techniques in this section are optional.\n",
    "\n",
    "- [Laplace Smoothing](https://en.wikipedia.org/wiki/Additive_smoothing) (pseudocounts)\n",
    "    Laplace smoothing is a technique where you add a small, non-zero value to all observed counts to offset for unobserved values.\n",
    "\n",
    "- Backoff Smoothing\n",
    "    Another smoothing technique is to interpolate between n-grams for missing data. This method is more effective than Laplace smoothing at combatting the data sparsity problem. Refer to chapters 4, 9, and 10 of the [Speech & Language Processing](https://web.stanford.edu/~jurafsky/slp3/) book for more information.\n",
    "\n",
    "- Extending to Trigrams\n",
    "    HMM taggers have achieved better than 96% accuracy on this dataset with the full Penn treebank tagset using an architecture described in [this](http://www.coli.uni-saarland.de/~thorsten/publications/Brants-ANLP00.pdf) paper. Altering your HMM to achieve the same performance would require implementing deleted interpolation (described in the paper), incorporating trigram probabilities in your frequency tables, and re-implementing the Viterbi algorithm to consider three consecutive states instead of two.\n",
    "\n",
    "### Obtain the Brown Corpus with a Larger Tagset\n",
    "Run the code below to download a copy of the brown corpus with the full NLTK tagset. You will need to research the available tagset information in the NLTK docs and determine the best way to extract the subset of NLTK tags you want to explore. If you write the following the format specified in Step 1, then you can reload the data using all of the code above for comparison.\n",
    "\n",
    "Refer to [Chapter 5](http://www.nltk.org/book/ch05.html) of the NLTK book for more information on the available tagsets."
   ]
  },
  {
   "cell_type": "code",
   "execution_count": 47,
   "metadata": {},
   "outputs": [
    {
     "name": "stdout",
     "output_type": "stream",
     "text": [
      "[nltk_data] Downloading package brown to /root/nltk_data...\n",
      "[nltk_data]   Unzipping corpora/brown.zip.\n"
     ]
    },
    {
     "data": {
      "text/plain": [
       "[('The', 'AT'),\n",
       " ('Fulton', 'NP-TL'),\n",
       " ('County', 'NN-TL'),\n",
       " ('Grand', 'JJ-TL'),\n",
       " ('Jury', 'NN-TL'),\n",
       " ('said', 'VBD'),\n",
       " ('Friday', 'NR'),\n",
       " ('an', 'AT'),\n",
       " ('investigation', 'NN'),\n",
       " ('of', 'IN'),\n",
       " (\"Atlanta's\", 'NP$'),\n",
       " ('recent', 'JJ'),\n",
       " ('primary', 'NN'),\n",
       " ('election', 'NN'),\n",
       " ('produced', 'VBD'),\n",
       " ('``', '``'),\n",
       " ('no', 'AT'),\n",
       " ('evidence', 'NN'),\n",
       " (\"''\", \"''\"),\n",
       " ('that', 'CS'),\n",
       " ('any', 'DTI'),\n",
       " ('irregularities', 'NNS'),\n",
       " ('took', 'VBD'),\n",
       " ('place', 'NN'),\n",
       " ('.', '.')]"
      ]
     },
     "execution_count": 47,
     "metadata": {},
     "output_type": "execute_result"
    }
   ],
   "source": [
    "import nltk\n",
    "from nltk import pos_tag, word_tokenize\n",
    "from nltk.corpus import brown\n",
    "\n",
    "nltk.download('brown')\n",
    "training_corpus = nltk.corpus.brown\n",
    "training_corpus.tagged_sents()[0]"
   ]
  },
  {
   "cell_type": "code",
   "execution_count": null,
   "metadata": {},
   "outputs": [],
   "source": []
  }
 ],
 "metadata": {
  "kernelspec": {
   "display_name": "Python 3",
   "language": "python",
   "name": "python3"
  },
  "language_info": {
   "codemirror_mode": {
    "name": "ipython",
    "version": 3
   },
   "file_extension": ".py",
   "mimetype": "text/x-python",
   "name": "python",
   "nbconvert_exporter": "python",
   "pygments_lexer": "ipython3",
   "version": "3.6.3"
  }
 },
 "nbformat": 4,
 "nbformat_minor": 2
}
