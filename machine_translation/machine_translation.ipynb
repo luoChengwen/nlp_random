{
 "cells": [
  {
   "cell_type": "markdown",
   "metadata": {
    "collapsed": true
   },
   "source": [
    "# Artificial Intelligence Nanodegree\n",
    "## Machine Translation Project\n",
    "In this notebook, sections that end with **'(IMPLEMENTATION)'** in the header indicate that the following blocks of code will require additional functionality which you must provide. Please be sure to read the instructions carefully!\n",
    "\n",
    "## Introduction\n",
    "In this notebook, you will build a deep neural network that functions as part of an end-to-end machine translation pipeline. Your completed pipeline will accept English text as input and return the French translation.\n",
    "\n",
    "- **Preprocess** - You'll convert text to sequence of integers.\n",
    "- **Models** Create models which accepts a sequence of integers as input and returns a probability distribution over possible translations. After learning about the basic types of neural networks that are often used for machine translation, you will engage in your own investigations, to design your own model!\n",
    "- **Prediction** Run the model on English text."
   ]
  },
  {
   "cell_type": "code",
   "execution_count": 1,
   "metadata": {},
   "outputs": [],
   "source": [
    "%load_ext autoreload\n",
    "%aimport helper, tests\n",
    "%autoreload 1"
   ]
  },
  {
   "cell_type": "code",
   "execution_count": 2,
   "metadata": {},
   "outputs": [
    {
     "name": "stderr",
     "output_type": "stream",
     "text": [
      "Using TensorFlow backend.\n"
     ]
    }
   ],
   "source": [
    "import collections\n",
    "\n",
    "import helper\n",
    "import numpy as np\n",
    "import project_tests as tests\n",
    "\n",
    "from keras.preprocessing.text import Tokenizer\n",
    "from keras.preprocessing.sequence import pad_sequences\n",
    "from keras.models import Model\n",
    "from keras.layers import GRU, Input, Dense, TimeDistributed, Activation, RepeatVector, Bidirectional\n",
    "from keras.layers.embeddings import Embedding\n",
    "from keras.optimizers import Adam\n",
    "from keras.losses import sparse_categorical_crossentropy"
   ]
  },
  {
   "cell_type": "markdown",
   "metadata": {},
   "source": [
    "### Verify access to the GPU\n",
    "The following test applies only if you expect to be using a GPU, e.g., while running in a Udacity Workspace or using an AWS instance with GPU support. Run the next cell, and verify that the device_type is \"GPU\".\n",
    "- If the device is not GPU & you are running from a Udacity Workspace, then save your workspace with the icon at the top, then click \"enable\" at the bottom of the workspace.\n",
    "- If the device is not GPU & you are running from an AWS instance, then refer to the cloud computing instructions in the classroom to verify your setup steps."
   ]
  },
  {
   "cell_type": "code",
   "execution_count": 3,
   "metadata": {},
   "outputs": [
    {
     "name": "stdout",
     "output_type": "stream",
     "text": [
      "[name: \"/cpu:0\"\n",
      "device_type: \"CPU\"\n",
      "memory_limit: 268435456\n",
      "locality {\n",
      "}\n",
      "incarnation: 4973754598408747105\n",
      ", name: \"/gpu:0\"\n",
      "device_type: \"GPU\"\n",
      "memory_limit: 357564416\n",
      "locality {\n",
      "  bus_id: 1\n",
      "}\n",
      "incarnation: 18026184180646276140\n",
      "physical_device_desc: \"device: 0, name: Tesla K80, pci bus id: 0000:00:04.0\"\n",
      "]\n"
     ]
    }
   ],
   "source": [
    "from tensorflow.python.client import device_lib\n",
    "print(device_lib.list_local_devices())"
   ]
  },
  {
   "cell_type": "markdown",
   "metadata": {},
   "source": [
    "## Dataset\n",
    "We begin by investigating the dataset that will be used to train and evaluate your pipeline.  The most common datasets used for machine translation are from [WMT](http://www.statmt.org/).  However, that will take a long time to train a neural network on.  We'll be using a dataset we created for this project that contains a small vocabulary.  You'll be able to train your model in a reasonable time with this dataset.\n",
    "### Load Data\n",
    "The data is located in `data/small_vocab_en` and `data/small_vocab_fr`. The `small_vocab_en` file contains English sentences with their French translations in the `small_vocab_fr` file. Load the English and French data from these files from running the cell below."
   ]
  },
  {
   "cell_type": "code",
   "execution_count": 4,
   "metadata": {},
   "outputs": [
    {
     "name": "stdout",
     "output_type": "stream",
     "text": [
      "Dataset Loaded\n"
     ]
    }
   ],
   "source": [
    "# Load English data\n",
    "english_sentences = helper.load_data('data/small_vocab_en')\n",
    "# Load French data\n",
    "french_sentences = helper.load_data('data/small_vocab_fr')\n",
    "\n",
    "print('Dataset Loaded')"
   ]
  },
  {
   "cell_type": "code",
   "execution_count": 5,
   "metadata": {},
   "outputs": [
    {
     "data": {
      "text/plain": [
       "list"
      ]
     },
     "execution_count": 5,
     "metadata": {},
     "output_type": "execute_result"
    }
   ],
   "source": [
    "type(english_sentences)"
   ]
  },
  {
   "cell_type": "code",
   "execution_count": 6,
   "metadata": {},
   "outputs": [
    {
     "data": {
      "text/plain": [
       "'new jersey is sometimes quiet during autumn , and it is snowy in april .'"
      ]
     },
     "execution_count": 6,
     "metadata": {},
     "output_type": "execute_result"
    }
   ],
   "source": [
    "english_sentences[0]"
   ]
  },
  {
   "cell_type": "code",
   "execution_count": 7,
   "metadata": {},
   "outputs": [
    {
     "data": {
      "text/plain": [
       "\"new jersey est parfois calme pendant l' automne , et il est neigeux en avril .\""
      ]
     },
     "execution_count": 7,
     "metadata": {},
     "output_type": "execute_result"
    }
   ],
   "source": [
    "french_sentences[0]"
   ]
  },
  {
   "cell_type": "code",
   "execution_count": 8,
   "metadata": {},
   "outputs": [
    {
     "data": {
      "text/plain": [
       "'the united states is usually chilly during july , and it is usually freezing in november .'"
      ]
     },
     "execution_count": 8,
     "metadata": {},
     "output_type": "execute_result"
    }
   ],
   "source": [
    "english_sentences[1]"
   ]
  },
  {
   "cell_type": "markdown",
   "metadata": {},
   "source": [
    "### Files\n",
    "Each line in `small_vocab_en` contains an English sentence with the respective translation in each line of `small_vocab_fr`.  View the first two lines from each file."
   ]
  },
  {
   "cell_type": "code",
   "execution_count": 9,
   "metadata": {},
   "outputs": [
    {
     "name": "stdout",
     "output_type": "stream",
     "text": [
      "small_vocab_en Line 1:  new jersey is sometimes quiet during autumn , and it is snowy in april .\n",
      "small_vocab_fr Line 1:  new jersey est parfois calme pendant l' automne , et il est neigeux en avril .\n",
      "small_vocab_en Line 2:  the united states is usually chilly during july , and it is usually freezing in november .\n",
      "small_vocab_fr Line 2:  les états-unis est généralement froid en juillet , et il gèle habituellement en novembre .\n"
     ]
    }
   ],
   "source": [
    "for sample_i in range(2):\n",
    "    print('small_vocab_en Line {}:  {}'.format(sample_i + 1, english_sentences[sample_i]))\n",
    "    print('small_vocab_fr Line {}:  {}'.format(sample_i + 1, french_sentences[sample_i]))"
   ]
  },
  {
   "cell_type": "markdown",
   "metadata": {},
   "source": [
    "From looking at the sentences, you can see they have been preprocessed already.  The puncuations have been delimited using spaces. All the text have been converted to lowercase.  This should save you some time, but the text requires more preprocessing.\n",
    "### Vocabulary\n",
    "The complexity of the problem is determined by the complexity of the vocabulary.  A more complex vocabulary is a more complex problem.  Let's look at the complexity of the dataset we'll be working with."
   ]
  },
  {
   "cell_type": "code",
   "execution_count": 10,
   "metadata": {},
   "outputs": [
    {
     "name": "stdout",
     "output_type": "stream",
     "text": [
      "1823250 English words.\n",
      "227 unique English words.\n"
     ]
    }
   ],
   "source": [
    "english_words_counter = collections.Counter([word for sentence in english_sentences for word in sentence.split()])\n",
    "french_words_counter = collections.Counter([word for sentence in french_sentences for word in sentence.split()])\n",
    "\n",
    "print('{} English words.'.format(len([word for sentence in english_sentences for word in sentence.split()])))\n",
    "print('{} unique English words.'.format(len(english_words_counter)))\n",
    "\n"
   ]
  },
  {
   "cell_type": "code",
   "execution_count": 11,
   "metadata": {},
   "outputs": [
    {
     "data": {
      "text/plain": [
       "1823250"
      ]
     },
     "execution_count": 11,
     "metadata": {},
     "output_type": "execute_result"
    }
   ],
   "source": [
    "sum(english_words_counter.values())"
   ]
  },
  {
   "cell_type": "code",
   "execution_count": 12,
   "metadata": {},
   "outputs": [
    {
     "data": {
      "text/plain": [
       "[('is', 205858),\n",
       " (',', 140897),\n",
       " ('.', 129039),\n",
       " ('in', 75525),\n",
       " ('it', 75137),\n",
       " ('during', 74933),\n",
       " ('the', 67628),\n",
       " ('but', 63987),\n",
       " ('and', 59850),\n",
       " ('sometimes', 37746)]"
      ]
     },
     "execution_count": 12,
     "metadata": {},
     "output_type": "execute_result"
    }
   ],
   "source": [
    "english_words_counter.most_common(10)"
   ]
  },
  {
   "cell_type": "code",
   "execution_count": 13,
   "metadata": {},
   "outputs": [
    {
     "data": {
      "text/plain": [
       "355"
      ]
     },
     "execution_count": 13,
     "metadata": {},
     "output_type": "execute_result"
    }
   ],
   "source": [
    "len(list(french_words_counter.keys()))"
   ]
  },
  {
   "cell_type": "code",
   "execution_count": 14,
   "metadata": {},
   "outputs": [
    {
     "data": {
      "text/plain": [
       "227"
      ]
     },
     "execution_count": 14,
     "metadata": {},
     "output_type": "execute_result"
    }
   ],
   "source": [
    "len(list(english_words_counter.keys()))"
   ]
  },
  {
   "cell_type": "code",
   "execution_count": 15,
   "metadata": {},
   "outputs": [
    {
     "data": {
      "text/plain": [
       "[('is', ',', '.', 'in', 'it', 'during', 'the', 'but', 'and', 'sometimes'),\n",
       " (205858, 140897, 129039, 75525, 75137, 74933, 67628, 63987, 59850, 37746)]"
      ]
     },
     "execution_count": 15,
     "metadata": {},
     "output_type": "execute_result"
    }
   ],
   "source": [
    "list(zip(*english_words_counter.most_common(10)))"
   ]
  },
  {
   "cell_type": "code",
   "execution_count": 16,
   "metadata": {},
   "outputs": [
    {
     "name": "stdout",
     "output_type": "stream",
     "text": [
      "10 Most common words in the English dataset:\n",
      "\"is\" \",\" \".\" \"in\" \"it\" \"during\" \"the\" \"but\" \"and\" \"sometimes\"\n",
      "\n",
      "1961295 French words.\n",
      "355 unique French words.\n",
      "10 Most common words in the French dataset:\n",
      "\"est\" \".\" \",\" \"en\" \"il\" \"les\" \"mais\" \"et\" \"la\" \"parfois\"\n"
     ]
    }
   ],
   "source": [
    "print('10 Most common words in the English dataset:')\n",
    "print('\"' + '\" \"'.join(list(zip(*english_words_counter.most_common(10)))[0]) + '\"')\n",
    "print()\n",
    "print('{} French words.'.format(len([word for sentence in french_sentences for word in sentence.split()])))\n",
    "print('{} unique French words.'.format(len(french_words_counter)))\n",
    "print('10 Most common words in the French dataset:')\n",
    "print('\"' + '\" \"'.join(list(zip(*french_words_counter.most_common(10)))[0]) + '\"')"
   ]
  },
  {
   "cell_type": "markdown",
   "metadata": {},
   "source": [
    "For comparison, _Alice's Adventures in Wonderland_ contains 2,766 unique words of a total of 15,500 words.\n",
    "## Preprocess\n",
    "For this project, you won't use text data as input to your model. Instead, you'll convert the text into sequences of integers using the following preprocess methods:\n",
    "1. Tokenize the words into ids\n",
    "2. Add padding to make all the sequences the same length.\n",
    "\n",
    "Time to start preprocessing the data...\n",
    "### Tokenize (IMPLEMENTATION)\n",
    "For a neural network to predict on text data, it first has to be turned into data it can understand. Text data like \"dog\" is a sequence of ASCII character encodings.  Since a neural network is a series of multiplication and addition operations, the input data needs to be number(s).\n",
    "\n",
    "We can turn each character into a number or each word into a number.  These are called character and word ids, respectively.  Character ids are used for character level models that generate text predictions for each character.  A word level model uses word ids that generate text predictions for each word.  Word level models tend to learn better, since they are lower in complexity, so we'll use those.\n",
    "\n",
    "Turn each sentence into a sequence of words ids using Keras's [`Tokenizer`](https://keras.io/preprocessing/text/#tokenizer) function. Use this function to tokenize `english_sentences` and `french_sentences` in the cell below.\n",
    "\n",
    "Running the cell will run `tokenize` on sample data and show output for debugging."
   ]
  },
  {
   "cell_type": "code",
   "execution_count": 17,
   "metadata": {},
   "outputs": [
    {
     "name": "stdout",
     "output_type": "stream",
     "text": [
      "{'the': 1, 'quick': 2, 'a': 3, 'brown': 4, 'fox': 5, 'jumps': 6, 'over': 7, 'lazy': 8, 'dog': 9, 'by': 10, 'jove': 11, 'my': 12, 'study': 13, 'of': 14, 'lexicography': 15, 'won': 16, 'prize': 17, 'this': 18, 'is': 19, 'short': 20, 'sentence': 21}\n",
      "\n",
      "Sequence 1 in x\n",
      "  Input:  The quick brown fox jumps over the lazy dog .\n",
      "  Output: [1, 2, 4, 5, 6, 7, 1, 8, 9]\n",
      "Sequence 2 in x\n",
      "  Input:  By Jove , my quick study of lexicography won a prize .\n",
      "  Output: [10, 11, 12, 2, 13, 14, 15, 16, 3, 17]\n",
      "Sequence 3 in x\n",
      "  Input:  This is a short sentence .\n",
      "  Output: [18, 19, 3, 20, 21]\n"
     ]
    }
   ],
   "source": [
    "def tokenize(x):\n",
    "    \"\"\"\n",
    "    Tokenize x\n",
    "    :param x: List of sentences/strings to be tokenized\n",
    "    :return: Tuple of (tokenized x data, tokenizer used to tokenize x)\n",
    "    \"\"\"\n",
    "    # TODO: Implement\n",
    "    token = Tokenizer()\n",
    "    token.fit_on_texts(x)\n",
    "    return token.texts_to_sequences(x), token\n",
    "tests.test_tokenize(tokenize)\n",
    "\n",
    "# # Tokenize Example output\n",
    "text_sentences = [\n",
    "    'The quick brown fox jumps over the lazy dog .',\n",
    "    'By Jove , my quick study of lexicography won a prize .',\n",
    "    'This is a short sentence .']\n",
    "text_tokenized, text_tokenizer = tokenize(text_sentences)\n",
    "print(text_tokenizer.word_index)\n",
    "print()\n",
    "for sample_i, (sent, token_sent) in enumerate(zip(text_sentences, text_tokenized)):\n",
    "    print('Sequence {} in x'.format(sample_i + 1))\n",
    "    print('  Input:  {}'.format(sent))\n",
    "    print('  Output: {}'.format(token_sent))"
   ]
  },
  {
   "cell_type": "markdown",
   "metadata": {},
   "source": [
    "### Padding (IMPLEMENTATION)\n",
    "When batching the sequence of word ids together, each sequence needs to be the same length.  Since sentences are dynamic in length, we can add padding to the end of the sequences to make them the same length.\n",
    "\n",
    "Make sure all the English sequences have the same length and all the French sequences have the same length by adding padding to the **end** of each sequence using Keras's [`pad_sequences`](https://keras.io/preprocessing/sequence/#pad_sequences) function."
   ]
  },
  {
   "cell_type": "code",
   "execution_count": 18,
   "metadata": {},
   "outputs": [
    {
     "name": "stdout",
     "output_type": "stream",
     "text": [
      "Sequence 1 in x\n",
      "  Input:  [1 2 4 5 6 7 1 8 9]\n",
      "  Output: [1 2 4 5 6 7 1 8 9 0]\n",
      "Sequence 2 in x\n",
      "  Input:  [10 11 12  2 13 14 15 16  3 17]\n",
      "  Output: [10 11 12  2 13 14 15 16  3 17]\n",
      "Sequence 3 in x\n",
      "  Input:  [18 19  3 20 21]\n",
      "  Output: [18 19  3 20 21  0  0  0  0  0]\n"
     ]
    }
   ],
   "source": [
    "def pad(x, length=None):\n",
    "    \"\"\"\n",
    "    Pad x\n",
    "    :param x: List of sequences.\n",
    "    :param length: Length to pad the sequence to.  If None, use length of longest sequence in x.\n",
    "    :return: Padded numpy array of sequences\n",
    "    \"\"\"\n",
    "    # TODO: Implement\n",
    "    if length is None:\n",
    "        length = max([len(i) for i in x])\n",
    "    \n",
    "    return pad_sequences(x, maxlen= length, padding='post')\n",
    "tests.test_pad(pad)\n",
    "  \n",
    "# Pad Tokenized output\n",
    "test_pad = pad(text_tokenized)\n",
    "for sample_i, (token_sent, pad_sent) in enumerate(zip(text_tokenized, test_pad)):\n",
    "    print('Sequence {} in x'.format(sample_i + 1))\n",
    "    print('  Input:  {}'.format(np.array(token_sent)))\n",
    "    print('  Output: {}'.format(pad_sent))"
   ]
  },
  {
   "cell_type": "markdown",
   "metadata": {},
   "source": [
    "### Preprocess Pipeline\n",
    "Your focus for this project is to build neural network architecture, so we won't ask you to create a preprocess pipeline.  Instead, we've provided you with the implementation of the `preprocess` function."
   ]
  },
  {
   "cell_type": "code",
   "execution_count": 19,
   "metadata": {},
   "outputs": [
    {
     "name": "stdout",
     "output_type": "stream",
     "text": [
      "(137861, 21)\n",
      "after (137861, 21, 1)\n",
      "Data Preprocessed\n",
      "Max English sentence length: 15\n",
      "Max French sentence length: 21\n",
      "English vocabulary size: 199\n",
      "French vocabulary size: 344\n"
     ]
    }
   ],
   "source": [
    "def preprocess(x, y):\n",
    "    \"\"\"\n",
    "    Preprocess x and y\n",
    "    :param x: Feature List of sentences\n",
    "    :param y: Label List of sentences\n",
    "    :return: Tuple of (Preprocessed x, Preprocessed y, x tokenizer, y tokenizer)\n",
    "    \"\"\"\n",
    "    preprocess_x, x_tk = tokenize(x)\n",
    "    preprocess_y, y_tk = tokenize(y)\n",
    "\n",
    "    preprocess_x = pad(preprocess_x)\n",
    "    preprocess_y = pad(preprocess_y)\n",
    "    print(preprocess_y.shape)\n",
    "    # Keras's sparse_categorical_crossentropy function requires the labels to be in 3 dimensions\n",
    "    preprocess_y = preprocess_y.reshape(*preprocess_y.shape, 1)\n",
    "    print('after',preprocess_y.shape)\n",
    "    return preprocess_x, preprocess_y, x_tk, y_tk\n",
    "\n",
    "preproc_english_sentences, preproc_french_sentences, english_tokenizer, french_tokenizer =\\\n",
    "    preprocess(english_sentences, french_sentences)\n",
    "    \n",
    "max_english_sequence_length = preproc_english_sentences.shape[1]\n",
    "max_french_sequence_length = preproc_french_sentences.shape[1]\n",
    "english_vocab_size = len(english_tokenizer.word_index)\n",
    "french_vocab_size = len(french_tokenizer.word_index)\n",
    "\n",
    "print('Data Preprocessed')\n",
    "print(\"Max English sentence length:\", max_english_sequence_length)\n",
    "print(\"Max French sentence length:\", max_french_sequence_length)\n",
    "print(\"English vocabulary size:\", english_vocab_size)\n",
    "print(\"French vocabulary size:\", french_vocab_size)"
   ]
  },
  {
   "cell_type": "markdown",
   "metadata": {},
   "source": [
    "## Models\n",
    "In this section, you will experiment with various neural network architectures.\n",
    "You will begin by training four relatively simple architectures.\n",
    "- Model 1 is a simple RNN\n",
    "- Model 2 is a RNN with Embedding\n",
    "- Model 3 is a Bidirectional RNN\n",
    "- Model 4 is an Encoder-Decoder RNN\n",
    "\n",
    "After experimenting with the four simple architectures, you will construct a deeper architecture that is designed to outperform all four models.\n",
    "### Ids Back to Text\n",
    "The neural network will be translating the input to words ids, which isn't the final form we want.  We want the French translation.  The function `logits_to_text` will bridge the gab between the logits from the neural network to the French translation.  You'll be using this function to better understand the output of the neural network."
   ]
  },
  {
   "cell_type": "code",
   "execution_count": 20,
   "metadata": {},
   "outputs": [
    {
     "name": "stdout",
     "output_type": "stream",
     "text": [
      "`logits_to_text` function loaded.\n"
     ]
    }
   ],
   "source": [
    "def logits_to_text(logits, tokenizer):\n",
    "    \"\"\"\n",
    "    Turn logits from a neural network into text using the tokenizer\n",
    "    :param logits: Logits from a neural network\n",
    "    :param tokenizer: Keras Tokenizer fit on the labels\n",
    "    :return: String that represents the text of the logits\n",
    "    \"\"\"\n",
    "    index_to_words = {id: word for word, id in tokenizer.word_index.items()}\n",
    "    index_to_words[0] = '<PAD>'\n",
    "\n",
    "    return ' '.join([index_to_words[prediction] for prediction in np.argmax(logits, 1)])\n",
    "\n",
    "print('`logits_to_text` function loaded.')"
   ]
  },
  {
   "cell_type": "markdown",
   "metadata": {},
   "source": [
    "### Model 1: RNN (IMPLEMENTATION)\n",
    "![RNN](images/rnn.png)\n",
    "A basic RNN model is a good baseline for sequence data.  In this model, you'll build a RNN that translates English to French."
   ]
  },
  {
   "cell_type": "code",
   "execution_count": 21,
   "metadata": {},
   "outputs": [
    {
     "name": "stdout",
     "output_type": "stream",
     "text": [
      "(137861, 21)\n",
      "(137861, 21, 1)\n",
      "Train on 110288 samples, validate on 27573 samples\n",
      "Epoch 1/8\n",
      "110288/110288 [==============================] - 40s 366us/step - loss: 1.3576 - acc: 0.6256 - val_loss: nan - val_acc: 0.6725\n",
      "Epoch 2/8\n",
      "110288/110288 [==============================] - 38s 348us/step - loss: 0.9514 - acc: 0.6850 - val_loss: nan - val_acc: 0.7040\n",
      "Epoch 3/8\n",
      "110288/110288 [==============================] - 38s 348us/step - loss: 0.7858 - acc: 0.7392 - val_loss: nan - val_acc: 0.7630\n",
      "Epoch 4/8\n",
      "110288/110288 [==============================] - 38s 348us/step - loss: 0.6667 - acc: 0.7835 - val_loss: nan - val_acc: 0.7917\n",
      "Epoch 5/8\n",
      "110288/110288 [==============================] - 38s 348us/step - loss: 0.6061 - acc: 0.8021 - val_loss: nan - val_acc: 0.7955\n",
      "Epoch 6/8\n",
      "110288/110288 [==============================] - 38s 348us/step - loss: 0.5510 - acc: 0.8200 - val_loss: nan - val_acc: 0.8416\n",
      "Epoch 7/8\n",
      "110288/110288 [==============================] - 38s 348us/step - loss: 0.5257 - acc: 0.8270 - val_loss: nan - val_acc: 0.7813\n",
      "Epoch 8/8\n",
      "110288/110288 [==============================] - 38s 348us/step - loss: 0.4939 - acc: 0.8369 - val_loss: nan - val_acc: 0.8255\n",
      "new jersey est parfois calme au mois automne il est et en est <PAD> <PAD> <PAD> <PAD> <PAD> <PAD> <PAD> <PAD>\n"
     ]
    }
   ],
   "source": [
    "from keras.layers import GRU, Input, Dense, TimeDistributed, Activation, RepeatVector, Bidirectional\n",
    "\n",
    "def simple_model(input_shape, output_sequence_length, english_vocab_size, french_vocab_size):\n",
    "    \"\"\"\n",
    "    Build and train a basic RNN on x and y\n",
    "    :param input_shape: Tuple of input shape\n",
    "    :param output_sequence_length: Length of output sequence\n",
    "    :param english_vocab_size: Number of unique English words in the dataset\n",
    "    :param french_vocab_size: Number of unique French words in the dataset\n",
    "    :return: Keras model built, but not trained\n",
    "    \"\"\"\n",
    "    # TODO: Build the layers\n",
    "    learning_rate = .001\n",
    "    input_seq = Input(input_shape[1:])\n",
    "    gru = GRU(512, return_sequences=True)(input_seq)\n",
    "    logits = TimeDistributed(Dense(french_vocab_size, activation='softmax'))(gru)\n",
    "    model=Model(input_seq, Activation('tanh')(logits))\n",
    "    model.compile(loss=sparse_categorical_crossentropy,\n",
    "                  optimizer=Adam(learning_rate),\n",
    "                  metrics=['accuracy'])\n",
    "    return model\n",
    "tests.test_simple_model(simple_model)\n",
    "\n",
    "\n",
    "\n",
    "# Reshaping the input to work with a basic RNN\n",
    "\n",
    "tmp_x = pad(preproc_english_sentences, max_french_sequence_length)\n",
    "print(tmp_x.shape)\n",
    "tmp_x = tmp_x.reshape((-1, preproc_french_sentences.shape[-2], 1))\n",
    "# tmp_x = tmp_x.reshape(-1, preproc_french_sentences.shape[-2])\n",
    "print(tmp_x.shape)\n",
    "# Train the neural network\n",
    "simple_rnn_model = simple_model(\n",
    "    tmp_x.shape,\n",
    "    max_french_sequence_length,\n",
    "    english_vocab_size,\n",
    "    french_vocab_size)\n",
    "simple_rnn_model.fit(tmp_x, preproc_french_sentences, batch_size=128, epochs=8, validation_split=0.2)\n",
    "\n",
    "# Print prediction(s)\n",
    "print(logits_to_text(simple_rnn_model.predict(tmp_x[:1])[0], french_tokenizer))"
   ]
  },
  {
   "cell_type": "code",
   "execution_count": 22,
   "metadata": {},
   "outputs": [
    {
     "name": "stdout",
     "output_type": "stream",
     "text": [
      "_________________________________________________________________\n",
      "Layer (type)                 Output Shape              Param #   \n",
      "=================================================================\n",
      "input_2 (InputLayer)         (None, 21, 1)             0         \n",
      "_________________________________________________________________\n",
      "gru_2 (GRU)                  (None, 21, 512)           789504    \n",
      "_________________________________________________________________\n",
      "time_distributed_2 (TimeDist (None, 21, 344)           176472    \n",
      "_________________________________________________________________\n",
      "activation_2 (Activation)    (None, 21, 344)           0         \n",
      "=================================================================\n",
      "Total params: 965,976\n",
      "Trainable params: 965,976\n",
      "Non-trainable params: 0\n",
      "_________________________________________________________________\n"
     ]
    }
   ],
   "source": [
    "simple_rnn_model.summary()"
   ]
  },
  {
   "cell_type": "code",
   "execution_count": 23,
   "metadata": {},
   "outputs": [
    {
     "data": {
      "text/plain": [
       "21"
      ]
     },
     "execution_count": 23,
     "metadata": {},
     "output_type": "execute_result"
    }
   ],
   "source": [
    "preproc_french_sentences.shape[-2]"
   ]
  },
  {
   "cell_type": "code",
   "execution_count": 24,
   "metadata": {},
   "outputs": [
    {
     "data": {
      "text/plain": [
       "(137861, 21, 1)"
      ]
     },
     "execution_count": 24,
     "metadata": {},
     "output_type": "execute_result"
    }
   ],
   "source": [
    "preproc_french_sentences.shape"
   ]
  },
  {
   "cell_type": "markdown",
   "metadata": {},
   "source": [
    "### Model 2: Embedding (IMPLEMENTATION)\n",
    "![RNN](images/embedding.png)\n",
    "You've turned the words into ids, but there's a better representation of a word.  This is called word embeddings.  An embedding is a vector representation of the word that is close to similar words in n-dimensional space, where the n represents the size of the embedding vectors.\n",
    "\n",
    "In this model, you'll create a RNN model using embedding."
   ]
  },
  {
   "cell_type": "code",
   "execution_count": 25,
   "metadata": {},
   "outputs": [
    {
     "name": "stdout",
     "output_type": "stream",
     "text": [
      "(137861, 21) input shape\n",
      "(137861, 21)\n",
      "21\n",
      "(137861, 21)\n",
      "(137861, 21) input shape\n"
     ]
    }
   ],
   "source": [
    "def embed_model(input_shape, output_sequence_length, english_vocab_size, french_vocab_size):\n",
    "    \"\"\"\n",
    "    Build and train a RNN model using word embedding on x and y\n",
    "    :param input_shape: Tuple of input shape\n",
    "    :param output_sequence_length: Length of output sequence\n",
    "    :param english_vocab_size: Number of unique English words in the dataset\n",
    "    :param french_vocab_size: Number of unique French words in the dataset\n",
    "    :return: Keras model built, but not trained\n",
    "    \"\"\"\n",
    "    # TODO: Implement\n",
    "    learning_rate = 1e-3\n",
    "    input_seq = Input(input_shape[1:])\n",
    "    print(input_shape, 'input shape')\n",
    "    embedding = Embedding(input_dim = english_vocab_size, output_dim = 128)(input_seq)\n",
    "    gru = GRU(512, return_sequences= True)(embedding)\n",
    "    logits= TimeDistributed(Dense( french_vocab_size, activation='softmax'))(gru)\n",
    "    model = Model(input_seq, Activation('tanh')(logits))\n",
    "      \n",
    "    model.compile(loss= sparse_categorical_crossentropy,\n",
    "                 optimizer=Adam(learning_rate),\n",
    "                 metrics=['accuracy'])\n",
    "    return model\n",
    "\n",
    "tests.test_embed_model(embed_model)\n",
    "\n",
    "\n",
    "# TODO: Reshape the input\n",
    "tmp_x = pad(preproc_english_sentences, max_french_sequence_length)\n",
    "print(tmp_x.shape)\n",
    "tmp_x2 = tmp_x.reshape(-1, preproc_french_sentences.shape[-2])\n",
    "print(preproc_french_sentences.shape[-2])\n",
    "print(tmp_x2.shape)\n",
    "# TODO: Train the neural network\n",
    "\n",
    "embed_model = embed_model(tmp_x2.shape, \n",
    "                          max_french_sequence_length,\n",
    "                          english_vocab_size, french_vocab_size)\n"
   ]
  },
  {
   "cell_type": "code",
   "execution_count": 26,
   "metadata": {},
   "outputs": [
    {
     "name": "stdout",
     "output_type": "stream",
     "text": [
      "Train on 110288 samples, validate on 27573 samples\n",
      "Epoch 1/6\n",
      "110288/110288 [==============================] - 47s 426us/step - loss: 1.0907 - acc: 0.7446 - val_loss: nan - val_acc: 0.8825\n",
      "Epoch 2/6\n",
      "110288/110288 [==============================] - 46s 420us/step - loss: 0.2991 - acc: 0.9019 - val_loss: nan - val_acc: 0.9151\n",
      "Epoch 3/6\n",
      "110288/110288 [==============================] - 46s 421us/step - loss: 0.2300 - acc: 0.9213 - val_loss: nan - val_acc: 0.9233\n",
      "Epoch 4/6\n",
      "110288/110288 [==============================] - 46s 420us/step - loss: 0.2033 - acc: 0.9288 - val_loss: nan - val_acc: 0.9287\n",
      "Epoch 5/6\n",
      "110288/110288 [==============================] - 46s 421us/step - loss: 0.1895 - acc: 0.9325 - val_loss: nan - val_acc: 0.9334\n",
      "Epoch 6/6\n",
      "110288/110288 [==============================] - 46s 420us/step - loss: 0.1815 - acc: 0.9348 - val_loss: nan - val_acc: 0.9337\n"
     ]
    },
    {
     "data": {
      "text/plain": [
       "<keras.callbacks.History at 0x7f3b08481320>"
      ]
     },
     "execution_count": 26,
     "metadata": {},
     "output_type": "execute_result"
    }
   ],
   "source": [
    "embed_model.fit(tmp_x2, preproc_french_sentences, batch_size=128, epochs=6, validation_split=.2)"
   ]
  },
  {
   "cell_type": "code",
   "execution_count": 27,
   "metadata": {},
   "outputs": [
    {
     "name": "stdout",
     "output_type": "stream",
     "text": [
      "_________________________________________________________________\n",
      "Layer (type)                 Output Shape              Param #   \n",
      "=================================================================\n",
      "input_4 (InputLayer)         (None, 21)                0         \n",
      "_________________________________________________________________\n",
      "embedding_2 (Embedding)      (None, 21, 128)           25472     \n",
      "_________________________________________________________________\n",
      "gru_4 (GRU)                  (None, 21, 512)           984576    \n",
      "_________________________________________________________________\n",
      "time_distributed_4 (TimeDist (None, 21, 344)           176472    \n",
      "_________________________________________________________________\n",
      "activation_4 (Activation)    (None, 21, 344)           0         \n",
      "=================================================================\n",
      "Total params: 1,186,520\n",
      "Trainable params: 1,186,520\n",
      "Non-trainable params: 0\n",
      "_________________________________________________________________\n"
     ]
    }
   ],
   "source": [
    "embed_model.summary()"
   ]
  },
  {
   "cell_type": "code",
   "execution_count": 28,
   "metadata": {},
   "outputs": [
    {
     "data": {
      "text/plain": [
       "(1, 21)"
      ]
     },
     "execution_count": 28,
     "metadata": {},
     "output_type": "execute_result"
    }
   ],
   "source": [
    "np.shape(tmp_x[:1])"
   ]
  },
  {
   "cell_type": "code",
   "execution_count": 29,
   "metadata": {},
   "outputs": [
    {
     "data": {
      "text/plain": [
       "(1, 21, 344)"
      ]
     },
     "execution_count": 29,
     "metadata": {},
     "output_type": "execute_result"
    }
   ],
   "source": [
    "np.shape(embed_model.predict(tmp_x2[:1]))"
   ]
  },
  {
   "cell_type": "code",
   "execution_count": 30,
   "metadata": {},
   "outputs": [
    {
     "data": {
      "text/plain": [
       "(21, 344)"
      ]
     },
     "execution_count": 30,
     "metadata": {},
     "output_type": "execute_result"
    }
   ],
   "source": [
    "np.shape(embed_model.predict(tmp_x2[:1])[0])"
   ]
  },
  {
   "cell_type": "code",
   "execution_count": 31,
   "metadata": {},
   "outputs": [],
   "source": [
    "tokenizer= french_tokenizer\n",
    "index_to_words = {id: word for word, id in tokenizer.word_index.items()}"
   ]
  },
  {
   "cell_type": "code",
   "execution_count": 32,
   "metadata": {},
   "outputs": [
    {
     "data": {
      "text/plain": [
       "{1: 'est',\n",
       " 2: 'en',\n",
       " 3: 'il',\n",
       " 4: 'les',\n",
       " 5: 'mais',\n",
       " 6: 'et',\n",
       " 7: 'la',\n",
       " 8: 'parfois',\n",
       " 9: 'jamais',\n",
       " 10: 'le',\n",
       " 11: \"l'\",\n",
       " 12: 'généralement',\n",
       " 13: 'moins',\n",
       " 14: 'aimé',\n",
       " 15: 'au',\n",
       " 16: 'fruit',\n",
       " 17: 'préféré',\n",
       " 18: 'agréable',\n",
       " 19: 'froid',\n",
       " 20: 'son',\n",
       " 21: 'chaud',\n",
       " 22: 'de',\n",
       " 23: 'plus',\n",
       " 24: 'automne',\n",
       " 25: 'mois',\n",
       " 26: 'à',\n",
       " 27: 'elle',\n",
       " 28: 'citrons',\n",
       " 29: 'paris',\n",
       " 30: 'inde',\n",
       " 31: 'unis',\n",
       " 32: 'états',\n",
       " 33: 'france',\n",
       " 34: 'jersey',\n",
       " 35: 'new',\n",
       " 36: 'chine',\n",
       " 37: 'pendant',\n",
       " 38: 'pamplemousse',\n",
       " 39: 'mon',\n",
       " 40: 'votre',\n",
       " 41: 'juin',\n",
       " 42: 'printemps',\n",
       " 43: 'janvier',\n",
       " 44: 'hiver',\n",
       " 45: 'mars',\n",
       " 46: 'été',\n",
       " 47: 'mai',\n",
       " 48: 'septembre',\n",
       " 49: 'juillet',\n",
       " 50: 'avril',\n",
       " 51: 'novembre',\n",
       " 52: 'décembre',\n",
       " 53: 'février',\n",
       " 54: 'octobre',\n",
       " 55: 'aime',\n",
       " 56: 'août',\n",
       " 57: 'merveilleux',\n",
       " 58: 'relaxant',\n",
       " 59: 'doux',\n",
       " 60: 'humide',\n",
       " 61: 'notre',\n",
       " 62: 'californie',\n",
       " 63: 'sec',\n",
       " 64: 'leur',\n",
       " 65: 'occupé',\n",
       " 66: 'pluvieux',\n",
       " 67: 'calme',\n",
       " 68: 'beau',\n",
       " 69: 'habituellement',\n",
       " 70: 'pommes',\n",
       " 71: 'pêches',\n",
       " 72: 'oranges',\n",
       " 73: 'poires',\n",
       " 74: 'fraises',\n",
       " 75: 'bananes',\n",
       " 76: 'verts',\n",
       " 77: 'raisins',\n",
       " 78: 'mangues',\n",
       " 79: \"d'\",\n",
       " 80: 'mangue',\n",
       " 81: 'gel',\n",
       " 82: 'raisin',\n",
       " 83: 'pomme',\n",
       " 84: \"l'orange\",\n",
       " 85: 'citron',\n",
       " 86: 'chaux',\n",
       " 87: 'banane',\n",
       " 88: 'poire',\n",
       " 89: 'fraise',\n",
       " 90: 'pêche',\n",
       " 91: 'pas',\n",
       " 92: 'enneigée',\n",
       " 93: 'favori',\n",
       " 94: 'déteste',\n",
       " 95: 'gèle',\n",
       " 96: 'fruits',\n",
       " 97: 'voiture',\n",
       " 98: \"l'automne\",\n",
       " 99: 'ils',\n",
       " 100: \"n'aime\",\n",
       " 101: 'california',\n",
       " 102: 'neige',\n",
       " 103: 'fait',\n",
       " 104: 'belle',\n",
       " 105: 'ne',\n",
       " 106: 'vous',\n",
       " 107: 'nous',\n",
       " 108: 'des',\n",
       " 109: 'animal',\n",
       " 110: 'camion',\n",
       " 111: 'cours',\n",
       " 112: 'neigeux',\n",
       " 113: 'conduit',\n",
       " 114: 'prochain',\n",
       " 115: 'ce',\n",
       " 116: 'je',\n",
       " 117: 'tranquille',\n",
       " 118: 'a',\n",
       " 119: 'cher',\n",
       " 120: 'une',\n",
       " 121: 'cette',\n",
       " 122: 'était',\n",
       " 123: 'aller',\n",
       " 124: 'aiment',\n",
       " 125: 'chaude',\n",
       " 126: 'aimons',\n",
       " 127: \"n'aiment\",\n",
       " 128: \"n'aimez\",\n",
       " 129: 'leurs',\n",
       " 130: 'aimez',\n",
       " 131: 'sont',\n",
       " 132: 'détestons',\n",
       " 133: 'jaune',\n",
       " 134: 'rouge',\n",
       " 135: \"j'aime\",\n",
       " 136: 'visiter',\n",
       " 137: 'sèche',\n",
       " 138: 'occupée',\n",
       " 139: 'frisquet',\n",
       " 140: 'préférée',\n",
       " 141: 'animaux',\n",
       " 142: 'dernier',\n",
       " 143: 'aimait',\n",
       " 144: 'un',\n",
       " 145: 'conduisait',\n",
       " 146: 'que',\n",
       " 147: 'nouvelle',\n",
       " 148: 'vieille',\n",
       " 149: 'vu',\n",
       " 150: 'verte',\n",
       " 151: 'petite',\n",
       " 152: 'nos',\n",
       " 153: 'noire',\n",
       " 154: 'brillant',\n",
       " 155: 'blanche',\n",
       " 156: 'redouté',\n",
       " 157: 'pleut',\n",
       " 158: \"n'aimait\",\n",
       " 159: 'pamplemousses',\n",
       " 160: 'pense',\n",
       " 161: 'entre',\n",
       " 162: 'bleue',\n",
       " 163: 'nouveau',\n",
       " 164: 'traduire',\n",
       " 165: 'rouillée',\n",
       " 166: 'bleu',\n",
       " 167: 'se',\n",
       " 168: 'grande',\n",
       " 169: 'rouillé',\n",
       " 170: 'ses',\n",
       " 171: \"qu'il\",\n",
       " 172: 'blanc',\n",
       " 173: 'aux',\n",
       " 174: 'brillante',\n",
       " 175: 'préférés',\n",
       " 176: 'noir',\n",
       " 177: 'pluies',\n",
       " 178: 'envisage',\n",
       " 179: 'étaient',\n",
       " 180: 'va',\n",
       " 181: 'rendre',\n",
       " 182: 'vert',\n",
       " 183: 'vieux',\n",
       " 184: 'petit',\n",
       " 185: 'espagnol',\n",
       " 186: 'portugais',\n",
       " 187: 'chinois',\n",
       " 188: 'anglais',\n",
       " 189: 'français',\n",
       " 190: 'glaciales',\n",
       " 191: 'mes',\n",
       " 192: 'cet',\n",
       " 193: 'automobile',\n",
       " 194: 'traduction',\n",
       " 195: 'mouillé',\n",
       " 196: 'difficile',\n",
       " 197: 'amusant',\n",
       " 198: 'facile',\n",
       " 199: 'comme',\n",
       " 200: 'gros',\n",
       " 201: 'souris',\n",
       " 202: 'pourrait',\n",
       " 203: 'voulait',\n",
       " 204: 'veut',\n",
       " 205: 'pourquoi',\n",
       " 206: 'aimés',\n",
       " 207: 'prévois',\n",
       " 208: 'prévoyons',\n",
       " 209: 'vos',\n",
       " 210: 'intention',\n",
       " 211: 'clémentes',\n",
       " 212: 'ont',\n",
       " 213: 'chat',\n",
       " 214: 'requin',\n",
       " 215: 'cheval',\n",
       " 216: 'chien',\n",
       " 217: 'singe',\n",
       " 218: 'lion',\n",
       " 219: 'ours',\n",
       " 220: 'lapin',\n",
       " 221: 'serpent',\n",
       " 222: 'redoutés',\n",
       " 223: 'allé',\n",
       " 224: 'grosse',\n",
       " 225: 'pluie',\n",
       " 226: 'trop',\n",
       " 227: 'monde',\n",
       " 228: 'maillot',\n",
       " 229: 'vont',\n",
       " 230: 'volant',\n",
       " 231: 'avez',\n",
       " 232: 'i',\n",
       " 233: 'allés',\n",
       " 234: 'allée',\n",
       " 235: 'quand',\n",
       " 236: 'oiseau',\n",
       " 237: 'éléphant',\n",
       " 238: 'pourraient',\n",
       " 239: 'voulaient',\n",
       " 240: 'veulent',\n",
       " 241: 'détendre',\n",
       " 242: 'aimée',\n",
       " 243: 'magnifique',\n",
       " 244: \"l'automobile\",\n",
       " 245: \"n'aimons\",\n",
       " 246: 'gelé',\n",
       " 247: 'détestait',\n",
       " 248: 'grand',\n",
       " 249: 'bien',\n",
       " 250: 'vers',\n",
       " 251: 'prévoient',\n",
       " 252: 'prévoit',\n",
       " 253: 'lui',\n",
       " 254: 'visite',\n",
       " 255: 'comment',\n",
       " 256: 'éléphants',\n",
       " 257: 'chevaux',\n",
       " 258: 'chiens',\n",
       " 259: \"l'éléphant\",\n",
       " 260: \"l'oiseau\",\n",
       " 261: 'requins',\n",
       " 262: \"l'ours\",\n",
       " 263: 'serpents',\n",
       " 264: 'chats',\n",
       " 265: 'lapins',\n",
       " 266: 'singes',\n",
       " 267: 'oiseaux',\n",
       " 268: 'lions',\n",
       " 269: 'légère',\n",
       " 270: 'cépage',\n",
       " 271: 'pensez',\n",
       " 272: 'tour',\n",
       " 273: 'eiffel',\n",
       " 274: \"l'épicerie\",\n",
       " 275: 'terrain',\n",
       " 276: 'football',\n",
       " 277: 'lac',\n",
       " 278: \"l'école\",\n",
       " 279: \"l'animal\",\n",
       " 280: \"n'est\",\n",
       " 281: 'allons',\n",
       " 282: 'allez',\n",
       " 283: 'peu',\n",
       " 284: 'pousse',\n",
       " 285: 'du',\n",
       " 286: 'temps',\n",
       " 287: 'at',\n",
       " 288: 'rouille',\n",
       " 289: 'sur',\n",
       " 290: \"qu'elle\",\n",
       " 291: 'petites',\n",
       " 292: 'dernière',\n",
       " 293: 'êtes',\n",
       " 294: 'vais',\n",
       " 295: 'voudrait',\n",
       " 296: 'proches',\n",
       " 297: 'frais',\n",
       " 298: 'manguiers',\n",
       " 299: 'avons',\n",
       " 300: 't',\n",
       " 301: 'porcelaine',\n",
       " 302: 'détestez',\n",
       " 303: \"c'est\",\n",
       " 304: 'grandes',\n",
       " 305: 'préférées',\n",
       " 306: 'douce',\n",
       " 307: 'durant',\n",
       " 308: 'congélation',\n",
       " 309: 'plaît',\n",
       " 310: 'où',\n",
       " 311: 'dans',\n",
       " 312: 'voulez',\n",
       " 313: 'aimeraient',\n",
       " 314: \"n'a\",\n",
       " 315: 'petits',\n",
       " 316: 'grands',\n",
       " 317: 'limes',\n",
       " 318: 'envisagent',\n",
       " 319: 'grosses',\n",
       " 320: 'bénigne',\n",
       " 321: 'mouillée',\n",
       " 322: 'enneigé',\n",
       " 323: 'moindres',\n",
       " 324: 'conduite',\n",
       " 325: 'gelés',\n",
       " 326: 'tout',\n",
       " 327: 'etats',\n",
       " 328: \"n'êtes\",\n",
       " 329: 'vit',\n",
       " 330: 'ressort',\n",
       " 331: 'détend',\n",
       " 332: 'redoutée',\n",
       " 333: 'tu',\n",
       " 334: 'qui',\n",
       " 335: 'traduis',\n",
       " 336: 'apprécié',\n",
       " 337: 'allions',\n",
       " 338: 'trouvé',\n",
       " 339: 'as',\n",
       " 340: 'faire',\n",
       " 341: 'favoris',\n",
       " 342: 'souvent',\n",
       " 343: 'es',\n",
       " 344: 'moteur'}"
      ]
     },
     "execution_count": 32,
     "metadata": {},
     "output_type": "execute_result"
    }
   ],
   "source": [
    "index_to_words"
   ]
  },
  {
   "cell_type": "code",
   "execution_count": 33,
   "metadata": {},
   "outputs": [],
   "source": [
    "logits= embed_model.predict(tmp_x2[:1])[0]"
   ]
  },
  {
   "cell_type": "code",
   "execution_count": 34,
   "metadata": {},
   "outputs": [
    {
     "data": {
      "text/plain": [
       "array([[  6.13671943e-07,   4.96470193e-07,   1.75020631e-07, ...,\n",
       "          1.79742283e-08,   2.51990642e-08,   2.65987161e-08],\n",
       "       [  1.02520607e-06,   4.15773866e-06,   5.21383697e-07, ...,\n",
       "          3.40982138e-11,   1.58413102e-10,   3.88263727e-10],\n",
       "       [  5.79649466e-08,   7.53442883e-01,   6.37759214e-08, ...,\n",
       "          5.36829123e-11,   5.29490098e-11,   1.88870156e-10],\n",
       "       ..., \n",
       "       [  7.61593938e-01,   4.84160489e-09,   4.42084854e-07, ...,\n",
       "          1.44549239e-14,   9.66014310e-15,   4.09258097e-14],\n",
       "       [  7.61593997e-01,   1.15671139e-09,   2.73895182e-08, ...,\n",
       "          2.63032123e-14,   2.41791145e-14,   6.10125625e-14],\n",
       "       [  7.61594117e-01,   6.55337784e-10,   1.01377751e-07, ...,\n",
       "          1.06608371e-14,   5.30768124e-15,   1.83588259e-14]], dtype=float32)"
      ]
     },
     "execution_count": 34,
     "metadata": {},
     "output_type": "execute_result"
    }
   ],
   "source": [
    "logits"
   ]
  },
  {
   "cell_type": "code",
   "execution_count": 35,
   "metadata": {},
   "outputs": [
    {
     "data": {
      "text/plain": [
       "array([ 35,  34,   1,   8,  67,   2,  11,  24,   6,   3,   1, 112,   2,\n",
       "        50,   0,   0,   0,   0,   0,   0,   0])"
      ]
     },
     "execution_count": 35,
     "metadata": {},
     "output_type": "execute_result"
    }
   ],
   "source": [
    "np.argmax(logits, axis=1)"
   ]
  },
  {
   "cell_type": "code",
   "execution_count": 36,
   "metadata": {},
   "outputs": [
    {
     "data": {
      "text/plain": [
       "\"new jersey est parfois calme en l' automne et il est neigeux en avril <PAD> <PAD> <PAD> <PAD> <PAD> <PAD> <PAD>\""
      ]
     },
     "execution_count": 36,
     "metadata": {},
     "output_type": "execute_result"
    }
   ],
   "source": [
    "logits_to_text(embed_model.predict(tmp_x2[:1])[0], french_tokenizer)"
   ]
  },
  {
   "cell_type": "code",
   "execution_count": 37,
   "metadata": {},
   "outputs": [
    {
     "name": "stdout",
     "output_type": "stream",
     "text": [
      "new jersey est parfois calme en l' automne et il est neigeux en avril <PAD> <PAD> <PAD> <PAD> <PAD> <PAD> <PAD>\n"
     ]
    }
   ],
   "source": [
    "# TODO: Print prediction(s)\n",
    "\n",
    "# print(logits_to_text(embed_model.predict(tmp_x[:1][0], french_tokenizer))\n",
    "# # Print prediction(s)\n",
    "print(logits_to_text(embed_model.predict(tmp_x2[:1])[0], french_tokenizer))\n"
   ]
  },
  {
   "cell_type": "markdown",
   "metadata": {},
   "source": [
    "### Model 3: Bidirectional RNNs (IMPLEMENTATION)\n",
    "![RNN](images/bidirectional.png)\n",
    "One restriction of a RNN is that it can't see the future input, only the past.  This is where bidirectional recurrent neural networks come in.  They are able to see the future data."
   ]
  },
  {
   "cell_type": "code",
   "execution_count": 38,
   "metadata": {
    "scrolled": true
   },
   "outputs": [
    {
     "name": "stdout",
     "output_type": "stream",
     "text": [
      "(137861, 21)\n",
      "21\n",
      "(137861, 21, 1)\n",
      "Train on 110288 samples, validate on 27573 samples\n",
      "Epoch 1/10\n",
      "110288/110288 [==============================] - 72s 653us/step - loss: 1.2014 - acc: 0.6547 - val_loss: nan - val_acc: 0.7026\n",
      "Epoch 2/10\n",
      "110288/110288 [==============================] - 71s 647us/step - loss: 0.8261 - acc: 0.7175 - val_loss: nan - val_acc: 0.7414\n",
      "Epoch 3/10\n",
      "110288/110288 [==============================] - 71s 647us/step - loss: 0.6561 - acc: 0.7752 - val_loss: nan - val_acc: 0.8048\n",
      "Epoch 4/10\n",
      "110288/110288 [==============================] - 71s 647us/step - loss: 0.5357 - acc: 0.8216 - val_loss: nan - val_acc: 0.8419\n",
      "Epoch 5/10\n",
      "110288/110288 [==============================] - 71s 647us/step - loss: 0.4898 - acc: 0.8333 - val_loss: nan - val_acc: 0.8444\n",
      "Epoch 6/10\n",
      "110288/110288 [==============================] - 71s 646us/step - loss: 0.4279 - acc: 0.8567 - val_loss: nan - val_acc: 0.8686\n",
      "Epoch 7/10\n",
      "110288/110288 [==============================] - 71s 646us/step - loss: 0.3936 - acc: 0.8661 - val_loss: nan - val_acc: 0.8527\n",
      "Epoch 8/10\n",
      "110288/110288 [==============================] - 71s 647us/step - loss: 0.3652 - acc: 0.8752 - val_loss: nan - val_acc: 0.8875\n",
      "Epoch 9/10\n",
      "110288/110288 [==============================] - 71s 647us/step - loss: 0.3362 - acc: 0.8850 - val_loss: nan - val_acc: 0.8870\n",
      "Epoch 10/10\n",
      "110288/110288 [==============================] - 71s 647us/step - loss: 0.3345 - acc: 0.8848 - val_loss: nan - val_acc: 0.8860\n"
     ]
    },
    {
     "data": {
      "text/plain": [
       "<keras.callbacks.History at 0x7f3af2191b38>"
      ]
     },
     "execution_count": 38,
     "metadata": {},
     "output_type": "execute_result"
    }
   ],
   "source": [
    "def bd_model(input_shape, output_sequence_length, english_vocab_size, french_vocab_size):\n",
    "    \"\"\"\n",
    "    Build and train a bidirectional RNN model on x and y\n",
    "    :param input_shape: Tuple of input shape\n",
    "    :param output_sequence_length: Length of output sequence\n",
    "    :param english_vocab_size: Number of unique English words in the dataset\n",
    "    :param french_vocab_size: Number of unique French words in the dataset\n",
    "    :return: Keras model built, but not trained\n",
    "    \"\"\"\n",
    "    # TODO: Implement\n",
    "    \n",
    "    learning_rate= 1e-3\n",
    "    input_seq= Input(input_shape[1:])\n",
    "    rnn = Bidirectional(GRU(512, return_sequences=True))(input_seq)\n",
    "    logits = TimeDistributed(Dense(french_vocab_size, activation='softmax'))(rnn)\n",
    "    model = Model(input_seq, Activation('tanh')(logits))\n",
    "    model.compile(loss= sparse_categorical_crossentropy,\n",
    "             optimizer=Adam(learning_rate),\n",
    "             metrics=['accuracy'])\n",
    "    return model\n",
    "\n",
    "tests.test_bd_model(bd_model)\n",
    "\n",
    "\n",
    "\n",
    "# TODO: Train and Print prediction(s)\n",
    "tmp_x = pad(preproc_english_sentences, max_french_sequence_length)\n",
    "print(tmp_x.shape)\n",
    "tmp_x2 = tmp_x.reshape(-1, preproc_french_sentences.shape[-2], 1)\n",
    "print(preproc_french_sentences.shape[-2])\n",
    "print(tmp_x2.shape)\n",
    "# TODO: Train the neural network\n",
    "\n",
    "bd_model = bd_model(tmp_x2.shape, \n",
    "                          max_french_sequence_length,\n",
    "                          english_vocab_size, french_vocab_size)\n",
    "bd_model.fit(tmp_x2, preproc_french_sentences, batch_size=128, epochs=10, validation_split=.2)"
   ]
  },
  {
   "cell_type": "code",
   "execution_count": 39,
   "metadata": {},
   "outputs": [
    {
     "data": {
      "text/plain": [
       "(137861, 15)"
      ]
     },
     "execution_count": 39,
     "metadata": {},
     "output_type": "execute_result"
    }
   ],
   "source": [
    "preproc_english_sentences.shape"
   ]
  },
  {
   "cell_type": "code",
   "execution_count": 40,
   "metadata": {},
   "outputs": [
    {
     "data": {
      "text/plain": [
       "(137861, 21, 1)"
      ]
     },
     "execution_count": 40,
     "metadata": {},
     "output_type": "execute_result"
    }
   ],
   "source": [
    "preproc_french_sentences.shape"
   ]
  },
  {
   "cell_type": "code",
   "execution_count": 41,
   "metadata": {},
   "outputs": [
    {
     "name": "stdout",
     "output_type": "stream",
     "text": [
      "_________________________________________________________________\n",
      "Layer (type)                 Output Shape              Param #   \n",
      "=================================================================\n",
      "input_6 (InputLayer)         (None, 21, 1)             0         \n",
      "_________________________________________________________________\n",
      "bidirectional_2 (Bidirection (None, 21, 1024)          1579008   \n",
      "_________________________________________________________________\n",
      "time_distributed_6 (TimeDist (None, 21, 344)           352600    \n",
      "_________________________________________________________________\n",
      "activation_6 (Activation)    (None, 21, 344)           0         \n",
      "=================================================================\n",
      "Total params: 1,931,608\n",
      "Trainable params: 1,931,608\n",
      "Non-trainable params: 0\n",
      "_________________________________________________________________\n"
     ]
    }
   ],
   "source": [
    "bd_model.summary()"
   ]
  },
  {
   "cell_type": "code",
   "execution_count": 42,
   "metadata": {},
   "outputs": [
    {
     "data": {
      "text/plain": [
       "(137861, 15)"
      ]
     },
     "execution_count": 42,
     "metadata": {},
     "output_type": "execute_result"
    }
   ],
   "source": [
    "preproc_english_sentences.shape"
   ]
  },
  {
   "cell_type": "markdown",
   "metadata": {},
   "source": [
    "### Model 4: Encoder-Decoder (IMPLEMENTATION)\n",
    "Time to look at encoder-decoder models.  This model is made up of an encoder and decoder. The encoder creates a matrix representation of the sentence.  The decoder takes this matrix as input and predicts the translation as output.\n",
    "\n",
    "Create an encoder-decoder model in the cell below."
   ]
  },
  {
   "cell_type": "code",
   "execution_count": 43,
   "metadata": {
    "scrolled": true
   },
   "outputs": [
    {
     "name": "stdout",
     "output_type": "stream",
     "text": [
      "(15, 1) input shape\n",
      "(137861, 21) x_shape\n",
      "(?, 21, 256) reptr.shape\n",
      "(?, ?, 512) decoder.shape\n",
      "(15, 1) input shape\n",
      "(137861, 15, 1) x_shape\n",
      "(?, 21, 256) reptr.shape\n",
      "(?, ?, 512) decoder.shape\n",
      "Train on 110288 samples, validate on 27573 samples\n",
      "Epoch 1/10\n",
      "110288/110288 [==============================] - 94s 848us/step - loss: 1.5311 - acc: 0.6004 - val_loss: nan - val_acc: 0.6524\n",
      "Epoch 2/10\n",
      "110288/110288 [==============================] - 93s 840us/step - loss: 1.1387 - acc: 0.6660 - val_loss: nan - val_acc: 0.6882\n",
      "Epoch 3/10\n",
      "110288/110288 [==============================] - 93s 840us/step - loss: 1.0215 - acc: 0.6838 - val_loss: nan - val_acc: 0.6913\n",
      "Epoch 4/10\n",
      "110288/110288 [==============================] - 93s 840us/step - loss: 0.8884 - acc: 0.7199 - val_loss: nan - val_acc: 0.7385\n",
      "Epoch 5/10\n",
      "110288/110288 [==============================] - 93s 842us/step - loss: 0.7380 - acc: 0.7545 - val_loss: nan - val_acc: 0.7804\n",
      "Epoch 6/10\n",
      "110288/110288 [==============================] - 93s 840us/step - loss: 0.6413 - acc: 0.7758 - val_loss: nan - val_acc: 0.7953\n",
      "Epoch 7/10\n",
      "110288/110288 [==============================] - 93s 840us/step - loss: 0.5503 - acc: 0.8019 - val_loss: nan - val_acc: 0.7973\n",
      "Epoch 8/10\n",
      "110288/110288 [==============================] - 93s 839us/step - loss: 0.4897 - acc: 0.8194 - val_loss: nan - val_acc: 0.8018\n",
      "Epoch 9/10\n",
      "110288/110288 [==============================] - 93s 839us/step - loss: 0.4417 - acc: 0.8344 - val_loss: nan - val_acc: 0.8418\n",
      "Epoch 10/10\n",
      "110288/110288 [==============================] - 93s 839us/step - loss: 0.4423 - acc: 0.8341 - val_loss: nan - val_acc: 0.7796\n",
      "new jersey est parfois chaud au l' de et il est neigeux en avril <PAD> <PAD> <PAD> <PAD> <PAD> <PAD> <PAD>\n"
     ]
    }
   ],
   "source": [
    "def encdec_model(input_shape, output_sequence_length, english_vocab_size, french_vocab_size):\n",
    "    \"\"\"\n",
    "    Build and train an encoder-decoder model on x and y\n",
    "    :param input_shape: Tuple of input shape\n",
    "    :param output_sequence_length: Length of output sequence\n",
    "    :param english_vocab_size: Number of unique English words in the dataset\n",
    "    :param french_vocab_size: Number of unique French words in the dataset\n",
    "    :return: Keras model built, but not trained\n",
    "    \"\"\"\n",
    "    # TODO: Implement\n",
    "    lr = 1e-3\n",
    "    input_seq = Input(input_shape[1:])\n",
    "    print(input_shape[1:], 'input shape')\n",
    "    print(tmp_x.shape ,'x_shape')\n",
    "    gru= GRU(512, return_sequences=True)(input_seq)\n",
    "    gru2= GRU(256)(gru)\n",
    "    reptr = RepeatVector(21)(gru2)\n",
    "    \n",
    "    decoder = GRU(512, return_sequences=True)(reptr)\n",
    "    print(reptr.shape, 'reptr.shape')\n",
    "    print(decoder.shape, 'decoder.shape')\n",
    "\n",
    "    logits = TimeDistributed(Dense(french_vocab_size, activation='softmax'))(decoder)\n",
    "    model = Model(inputs= input_seq, outputs= logits)\n",
    "    model.compile(loss = sparse_categorical_crossentropy,\n",
    "                 optimizer=Adam(lr),\n",
    "                 metrics=['accuracy'])\n",
    "\n",
    "\n",
    "    \n",
    "    return model\n",
    "tests.test_encdec_model(encdec_model)\n",
    "\n",
    "    \n",
    "    \n",
    "# # TODO: Train and Print prediction(s)\n",
    "\n",
    "tmp_x = pad(preproc_english_sentences, max_english_sequence_length)\n",
    "tmp_x = tmp_x.reshape((-1, preproc_english_sentences.shape[1], 1))\n",
    "\n",
    "encdec_rnn_model = encdec_model(\n",
    "    tmp_x.shape,\n",
    "    max_english_sequence_length,\n",
    "    english_vocab_size,\n",
    "    french_vocab_size)\n",
    "encdec_rnn_model.fit(tmp_x, preproc_french_sentences, batch_size=128, epochs=10, validation_split=0.2)\n",
    "\n",
    "print(logits_to_text(encdec_rnn_model.predict(tmp_x[:1])[0], french_tokenizer))"
   ]
  },
  {
   "cell_type": "code",
   "execution_count": 44,
   "metadata": {},
   "outputs": [
    {
     "name": "stdout",
     "output_type": "stream",
     "text": [
      "_________________________________________________________________\n",
      "Layer (type)                 Output Shape              Param #   \n",
      "=================================================================\n",
      "input_8 (InputLayer)         (None, 15, 1)             0         \n",
      "_________________________________________________________________\n",
      "gru_10 (GRU)                 (None, 15, 512)           789504    \n",
      "_________________________________________________________________\n",
      "gru_11 (GRU)                 (None, 256)               590592    \n",
      "_________________________________________________________________\n",
      "repeat_vector_2 (RepeatVecto (None, 21, 256)           0         \n",
      "_________________________________________________________________\n",
      "gru_12 (GRU)                 (None, 21, 512)           1181184   \n",
      "_________________________________________________________________\n",
      "time_distributed_8 (TimeDist (None, 21, 344)           176472    \n",
      "=================================================================\n",
      "Total params: 2,737,752\n",
      "Trainable params: 2,737,752\n",
      "Non-trainable params: 0\n",
      "_________________________________________________________________\n"
     ]
    }
   ],
   "source": [
    "encdec_rnn_model.summary()"
   ]
  },
  {
   "cell_type": "markdown",
   "metadata": {},
   "source": [
    "### Model 5: Custom (IMPLEMENTATION)\n",
    "Use everything you learned from the previous models to create a model that incorporates embedding and a bidirectional rnn into one model."
   ]
  },
  {
   "cell_type": "code",
   "execution_count": 45,
   "metadata": {},
   "outputs": [
    {
     "name": "stdout",
     "output_type": "stream",
     "text": [
      "(?, 15) input_seq\n",
      "(?, 15, 256) embedding_seq\n",
      "(137861, 15, 1) tmp_x\n",
      "(?, 21, 256) repeatr_\n",
      "(?, 21, 344) logits_\n"
     ]
    }
   ],
   "source": [
    "def model_final(input_shape, output_sequence_length, english_vocab_size, french_vocab_size):\n",
    "    \"\"\"\n",
    "    Build and train a model that incorporates embedding, encoder-decoder, and bidirectional RNN on x and y\n",
    "    :param input_shape: Tuple of input shape\n",
    "    :param output_sequence_length: Length of output sequence\n",
    "    :param english_vocab_size: Number of unique English words in the dataset\n",
    "    :param french_vocab_size: Number of unique French words in the dataset\n",
    "    :return: Keras model built, but not trained\n",
    "    \"\"\"\n",
    "    # TODO: Implement\n",
    "    lr = 1e-3\n",
    "    input_seq = Input(input_shape[1:])\n",
    "    print(input_seq.shape, 'input_seq')\n",
    "    embedding = Embedding(input_dim = english_vocab_size, output_dim=256)(input_seq)\n",
    "    print(embedding.shape, 'embedding_seq')\n",
    "    print(tmp_x.shape, 'tmp_x')\n",
    "    gru = Bidirectional(GRU(512, return_sequences=True))(embedding)\n",
    "    gru2 = GRU(256)(gru)\n",
    "    repeatr = RepeatVector(21)(gru2)\n",
    "    print(repeatr.shape, 'repeatr_')\n",
    "    decoder = GRU(512, return_sequences=True)(repeatr)\n",
    "    logits= TimeDistributed(Dense(french_vocab_size, activation='softmax'))(decoder)\n",
    "    print(logits.shape, 'logits_')\n",
    "    model = Model(inputs= input_seq, outputs=logits)\n",
    "    model.compile(loss = sparse_categorical_crossentropy,\n",
    "                  metrics=['accuracy'],\n",
    "                  optimizer=Adam(lr)\n",
    "                 )\n",
    "    \n",
    "    return model\n",
    "tests.test_model_final(model_final)\n",
    "\n"
   ]
  },
  {
   "cell_type": "code",
   "execution_count": 46,
   "metadata": {},
   "outputs": [
    {
     "name": "stdout",
     "output_type": "stream",
     "text": [
      "Final Model Loaded\n",
      "(137861, 15)\n",
      "(?, 15) input_seq\n",
      "(?, 15, 256) embedding_seq\n",
      "(137861, 15) tmp_x\n",
      "(?, 21, 256) repeatr_\n",
      "(?, 21, 344) logits_\n",
      "Train on 110288 samples, validate on 27573 samples\n",
      "Epoch 1/10\n",
      "110288/110288 [==============================] - 135s 1ms/step - loss: 1.4762 - acc: 0.6254 - val_loss: nan - val_acc: 0.7398\n",
      "Epoch 2/10\n",
      "110288/110288 [==============================] - 133s 1ms/step - loss: 0.6441 - acc: 0.8043 - val_loss: nan - val_acc: 0.8638\n",
      "Epoch 3/10\n",
      "110288/110288 [==============================] - 133s 1ms/step - loss: 0.2896 - acc: 0.9148 - val_loss: nan - val_acc: 0.9394\n",
      "Epoch 4/10\n",
      "110288/110288 [==============================] - 133s 1ms/step - loss: 0.1631 - acc: 0.9516 - val_loss: nan - val_acc: 0.9587\n",
      "Epoch 5/10\n",
      "110288/110288 [==============================] - 133s 1ms/step - loss: 0.1223 - acc: 0.9628 - val_loss: nan - val_acc: 0.9645\n",
      "Epoch 6/10\n",
      "110288/110288 [==============================] - 133s 1ms/step - loss: 0.0997 - acc: 0.9695 - val_loss: nan - val_acc: 0.9698\n",
      "Epoch 7/10\n",
      "110288/110288 [==============================] - 133s 1ms/step - loss: 0.0823 - acc: 0.9747 - val_loss: nan - val_acc: 0.9724\n",
      "Epoch 8/10\n",
      "110288/110288 [==============================] - 133s 1ms/step - loss: 0.0728 - acc: 0.9775 - val_loss: nan - val_acc: 0.9726\n",
      "Epoch 9/10\n",
      "110288/110288 [==============================] - 133s 1ms/step - loss: 0.0711 - acc: 0.9780 - val_loss: nan - val_acc: 0.9771\n",
      "Epoch 10/10\n",
      "110288/110288 [==============================] - 133s 1ms/step - loss: 0.0676 - acc: 0.9793 - val_loss: nan - val_acc: 0.9756\n",
      "new jersey est parfois calme pendant l' automne et il est neigeux en avril <PAD> <PAD> <PAD> <PAD> <PAD> <PAD> <PAD>\n"
     ]
    }
   ],
   "source": [
    "\n",
    "print('Final Model Loaded')\n",
    "# TODO: Train the final model\n",
    "\n",
    "tmp_x = pad(preproc_english_sentences, max_english_sequence_length)\n",
    "tmp_x = tmp_x.reshape(*tmp_x.shape)\n",
    "print(tmp_x.shape)\n",
    "model_final_r = model_final(\n",
    "                            tmp_x.shape,\n",
    "                            max_english_sequence_length,\n",
    "                            english_vocab_size,\n",
    "                            french_vocab_size\n",
    "                            )\n",
    "\n",
    "model_final_r.fit(tmp_x, preproc_french_sentences, batch_size=128, epochs=10, validation_split=0.2)\n",
    "print(logits_to_text(model_final_r.predict(tmp_x[:1])[0], french_tokenizer))"
   ]
  },
  {
   "cell_type": "code",
   "execution_count": 47,
   "metadata": {},
   "outputs": [
    {
     "name": "stdout",
     "output_type": "stream",
     "text": [
      "_________________________________________________________________\n",
      "Layer (type)                 Output Shape              Param #   \n",
      "=================================================================\n",
      "input_10 (InputLayer)        (None, 15)                0         \n",
      "_________________________________________________________________\n",
      "embedding_4 (Embedding)      (None, 15, 256)           50944     \n",
      "_________________________________________________________________\n",
      "bidirectional_4 (Bidirection (None, 15, 1024)          2362368   \n",
      "_________________________________________________________________\n",
      "gru_17 (GRU)                 (None, 256)               983808    \n",
      "_________________________________________________________________\n",
      "repeat_vector_4 (RepeatVecto (None, 21, 256)           0         \n",
      "_________________________________________________________________\n",
      "gru_18 (GRU)                 (None, 21, 512)           1181184   \n",
      "_________________________________________________________________\n",
      "time_distributed_10 (TimeDis (None, 21, 344)           176472    \n",
      "=================================================================\n",
      "Total params: 4,754,776\n",
      "Trainable params: 4,754,776\n",
      "Non-trainable params: 0\n",
      "_________________________________________________________________\n"
     ]
    }
   ],
   "source": [
    "model_final_r.summary()"
   ]
  },
  {
   "cell_type": "markdown",
   "metadata": {},
   "source": [
    "## Prediction (IMPLEMENTATION)"
   ]
  },
  {
   "cell_type": "code",
   "execution_count": 49,
   "metadata": {},
   "outputs": [
    {
     "name": "stdout",
     "output_type": "stream",
     "text": [
      "(137861, 15) (137861, 21, 1)\n",
      "(?, 15) input_seq\n",
      "(?, 15, 256) embedding_seq\n",
      "(137861, 15) tmp_x\n",
      "(?, 21, 256) repeatr_\n",
      "(?, 21, 344) logits_\n",
      "Train on 110288 samples, validate on 27573 samples\n",
      "Epoch 1/6\n",
      "110288/110288 [==============================] - 135s 1ms/step - loss: 1.4142 - acc: 0.6365 - val_loss: nan - val_acc: 0.7567\n",
      "Epoch 2/6\n",
      "110288/110288 [==============================] - 133s 1ms/step - loss: 0.5939 - acc: 0.8183 - val_loss: nan - val_acc: 0.8728\n",
      "Epoch 3/6\n",
      "110288/110288 [==============================] - 133s 1ms/step - loss: 0.2863 - acc: 0.9137 - val_loss: nan - val_acc: 0.9436\n",
      "Epoch 4/6\n",
      "110288/110288 [==============================] - 133s 1ms/step - loss: 0.1616 - acc: 0.9518 - val_loss: nan - val_acc: 0.9562\n",
      "Epoch 5/6\n",
      "110288/110288 [==============================] - 133s 1ms/step - loss: 0.1145 - acc: 0.9653 - val_loss: nan - val_acc: 0.9688\n",
      "Epoch 6/6\n",
      "110288/110288 [==============================] - 132s 1ms/step - loss: 0.0993 - acc: 0.9696 - val_loss: nan - val_acc: 0.9697\n",
      "Sample 1:\n",
      "il a vu un vieux camion jaune <PAD> <PAD> <PAD> <PAD> <PAD> <PAD> <PAD> <PAD> <PAD> <PAD> <PAD> <PAD> <PAD> <PAD>\n",
      "Il a vu un vieux camion jaune\n",
      "Sample 2:\n",
      "new jersey est parfois calme à l'automne et il est neigeux en avril <PAD> <PAD> <PAD> <PAD> <PAD> <PAD> <PAD> <PAD>\n",
      "new jersey est parfois calme pendant l' automne et il est neigeux en avril <PAD> <PAD> <PAD> <PAD> <PAD> <PAD> <PAD>\n"
     ]
    }
   ],
   "source": [
    "def final_predictions(x, y, x_tk, y_tk):\n",
    "    \"\"\"\n",
    "    Gets predictions using the final model\n",
    "    :param x: Preprocessed English data\n",
    "    :param y: Preprocessed French data\n",
    "    :param x_tk: English tokenizer\n",
    "    :param y_tk: French tokenizer\n",
    "    \"\"\"\n",
    "    # TODO: Train neural network using model_final\n",
    "    print(x.shape, y.shape)\n",
    "    model = model_final(\n",
    "        x.shape, y.shape,\n",
    "        english_vocab_size,\n",
    "        french_vocab_size\n",
    "    )\n",
    "    \n",
    "    model.fit(x, y, batch_size=128, validation_split=.2, epochs = 6)\n",
    "    \n",
    "    \n",
    "    ## DON'T EDIT ANYTHING BELOW THIS LINE\n",
    "    y_id_to_word = {value: key for key, value in y_tk.word_index.items()}\n",
    "    y_id_to_word[0] = '<PAD>'\n",
    "\n",
    "    sentence = 'he saw a old yellow truck'\n",
    "    sentence = [x_tk.word_index[word] for word in sentence.split()]\n",
    "    sentence = pad_sequences([sentence], maxlen=x.shape[-1], padding='post')\n",
    "    sentences = np.array([sentence[0], x[0]])\n",
    "    predictions = model.predict(sentences, len(sentences))\n",
    "\n",
    "    print('Sample 1:')\n",
    "    print(' '.join([y_id_to_word[np.argmax(x)] for x in predictions[0]]))\n",
    "    print('Il a vu un vieux camion jaune')\n",
    "    print('Sample 2:')\n",
    "    print(' '.join([y_id_to_word[np.argmax(x)] for x in predictions[1]]))\n",
    "    print(' '.join([y_id_to_word[np.max(x)] for x in y[0]]))\n",
    "\n",
    "\n",
    "final_predictions(preproc_english_sentences, preproc_french_sentences, english_tokenizer, french_tokenizer)"
   ]
  },
  {
   "cell_type": "markdown",
   "metadata": {},
   "source": [
    "## Submission\n",
    "When you're ready to submit, complete the following steps:\n",
    "1. Review the rubric to ensure your submission meets all requirements to pass\n",
    "2. Generate an HTML version of this notebook\n",
    "\n",
    "  - Run the next cell to attempt automatic generation (this is the recommended method in Workspaces)\n",
    "  - Navigate to **FILE -> Download as -> HTML (.html)**\n",
    "  - Manually generate a copy using `nbconvert` from your shell terminal\n",
    "```\n",
    "$ pip install nbconvert\n",
    "$ python -m nbconvert machine_translation.ipynb\n",
    "```\n",
    "  \n",
    "3. Submit the project\n",
    "\n",
    "  - If you are in a Workspace, simply click the \"Submit Project\" button (bottom towards the right)\n",
    "  \n",
    "  - Otherwise, add the following files into a zip archive and submit them \n",
    "  - `helper.py`\n",
    "  - `machine_translation.ipynb`\n",
    "  - `machine_translation.html`\n",
    "    - You can export the notebook by navigating to **File -> Download as -> HTML (.html)**."
   ]
  },
  {
   "cell_type": "markdown",
   "metadata": {},
   "source": [
    "### Generate the html\n",
    "\n",
    "**Save your notebook before running the next cell to generate the HTML output.** Then submit your project."
   ]
  },
  {
   "cell_type": "code",
   "execution_count": 51,
   "metadata": {},
   "outputs": [
    {
     "data": {
      "text/plain": [
       "['[NbConvertApp] Converting notebook machine_translation.ipynb to html',\n",
       " '[NbConvertApp] Writing 411149 bytes to machine_translation.html',\n",
       " '[NbConvertApp] Converting notebook machine_translation-zh.ipynb to html',\n",
       " '[NbConvertApp] Writing 328544 bytes to machine_translation-zh.html']"
      ]
     },
     "execution_count": 51,
     "metadata": {},
     "output_type": "execute_result"
    }
   ],
   "source": [
    "# Save before you run this cell!\n",
    "!!jupyter nbconvert *.ipynb"
   ]
  },
  {
   "cell_type": "markdown",
   "metadata": {},
   "source": [
    "## Optional Enhancements\n",
    "\n",
    "This project focuses on learning various network architectures for machine translation, but we don't evaluate the models according to best practices by splitting the data into separate test & training sets -- so the model accuracy is overstated. Use the [`sklearn.model_selection.train_test_split()`](http://scikit-learn.org/stable/modules/generated/sklearn.model_selection.train_test_split.html) function to create separate training & test datasets, then retrain each of the models using only the training set and evaluate the prediction accuracy using the hold out test set. Does the \"best\" model change?"
   ]
  },
  {
   "cell_type": "code",
   "execution_count": null,
   "metadata": {},
   "outputs": [],
   "source": []
  }
 ],
 "metadata": {
  "kernelspec": {
   "display_name": "Python 3",
   "language": "python",
   "name": "python3"
  },
  "language_info": {
   "codemirror_mode": {
    "name": "ipython",
    "version": 3
   },
   "file_extension": ".py",
   "mimetype": "text/x-python",
   "name": "python",
   "nbconvert_exporter": "python",
   "pygments_lexer": "ipython3",
   "version": "3.6.3"
  }
 },
 "nbformat": 4,
 "nbformat_minor": 1
}
